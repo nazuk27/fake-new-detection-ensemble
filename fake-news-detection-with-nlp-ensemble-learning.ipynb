{
 "cells": [
  {
   "cell_type": "markdown",
   "metadata": {
    "papermill": {
     "duration": 0.114388,
     "end_time": "2020-12-21T10:10:51.03622",
     "exception": false,
     "start_time": "2020-12-21T10:10:50.921832",
     "status": "completed"
    },
    "tags": []
   },
   "source": [
    "# ================Fake News Classification==============="
   ]
  },
  {
   "cell_type": "markdown",
   "metadata": {
    "papermill": {
     "duration": 0.096527,
     "end_time": "2020-12-21T10:10:51.860615",
     "exception": false,
     "start_time": "2020-12-21T10:10:51.764088",
     "status": "completed"
    },
    "tags": []
   },
   "source": [
    "# Importing Libraries"
   ]
  },
  {
   "cell_type": "code",
   "execution_count": 1,
   "metadata": {
    "execution": {
     "iopub.execute_input": "2021-08-15T10:06:29.825506Z",
     "iopub.status.busy": "2021-08-15T10:06:29.825147Z",
     "iopub.status.idle": "2021-08-15T10:06:31.625951Z",
     "shell.execute_reply": "2021-08-15T10:06:31.625189Z",
     "shell.execute_reply.started": "2021-08-15T10:06:29.825472Z"
    },
    "papermill": {
     "duration": 2.042183,
     "end_time": "2020-12-21T10:10:53.999926",
     "exception": false,
     "start_time": "2020-12-21T10:10:51.957743",
     "status": "completed"
    },
    "tags": []
   },
   "outputs": [],
   "source": [
    "import pandas as pd\n",
    "import numpy as np\n",
    "import matplotlib.pyplot as plt\n",
    "import seaborn as sns\n",
    "from nltk.tokenize import RegexpTokenizer\n",
    "from collections import Counter \n",
    "from sklearn import preprocessing\n",
    "import re\n",
    "from wordcloud import WordCloud\n",
    "import pandas\n",
    "import string\n",
    "from nltk.corpus import stopwords\n",
    "import matplotlib.cm as cm\n",
    "from matplotlib import rcParams\n",
    "%matplotlib inline\n",
    "import warnings\n",
    "warnings.filterwarnings(\"ignore\")"
   ]
  },
  {
   "cell_type": "markdown",
   "metadata": {
    "papermill": {
     "duration": 0.13333,
     "end_time": "2020-12-21T10:10:54.231489",
     "exception": false,
     "start_time": "2020-12-21T10:10:54.098159",
     "status": "completed"
    },
    "tags": []
   },
   "source": [
    "# Loading  Dataset"
   ]
  },
  {
   "cell_type": "code",
   "execution_count": 2,
   "metadata": {
    "execution": {
     "iopub.execute_input": "2021-08-15T10:06:33.990001Z",
     "iopub.status.busy": "2021-08-15T10:06:33.989681Z",
     "iopub.status.idle": "2021-08-15T10:06:36.349370Z",
     "shell.execute_reply": "2021-08-15T10:06:36.348405Z",
     "shell.execute_reply.started": "2021-08-15T10:06:33.989972Z"
    },
    "papermill": {
     "duration": 0.163585,
     "end_time": "2020-12-21T10:10:54.531566",
     "exception": false,
     "start_time": "2020-12-21T10:10:54.367981",
     "status": "completed"
    },
    "tags": []
   },
   "outputs": [],
   "source": [
    "true = pd.read_csv('/kaggle/input/fake-and-real-news-dataset/True.csv')\n",
    "fake = pd.read_csv('/kaggle/input/fake-and-real-news-dataset/Fake.csv')"
   ]
  },
  {
   "cell_type": "markdown",
   "metadata": {},
   "source": [
    "## Combining the true and fake news"
   ]
  },
  {
   "cell_type": "code",
   "execution_count": 3,
   "metadata": {
    "execution": {
     "iopub.execute_input": "2021-08-15T10:06:36.908031Z",
     "iopub.status.busy": "2021-08-15T10:06:36.907704Z",
     "iopub.status.idle": "2021-08-15T10:06:36.936540Z",
     "shell.execute_reply": "2021-08-15T10:06:36.935595Z",
     "shell.execute_reply.started": "2021-08-15T10:06:36.908000Z"
    }
   },
   "outputs": [],
   "source": [
    "true['label']='fake'\n",
    "fake['label']='true'\n",
    "\n",
    "data = pd.concat([true, fake], axis=0)"
   ]
  },
  {
   "cell_type": "code",
   "execution_count": 4,
   "metadata": {
    "execution": {
     "iopub.execute_input": "2021-08-15T10:06:38.910527Z",
     "iopub.status.busy": "2021-08-15T10:06:38.910074Z",
     "iopub.status.idle": "2021-08-15T10:06:38.931681Z",
     "shell.execute_reply": "2021-08-15T10:06:38.930659Z",
     "shell.execute_reply.started": "2021-08-15T10:06:38.910470Z"
    },
    "papermill": {
     "duration": 0.122578,
     "end_time": "2020-12-21T10:10:54.74934",
     "exception": false,
     "start_time": "2020-12-21T10:10:54.626762",
     "status": "completed"
    },
    "scrolled": true,
    "tags": []
   },
   "outputs": [
    {
     "data": {
      "text/html": [
       "<div>\n",
       "<style scoped>\n",
       "    .dataframe tbody tr th:only-of-type {\n",
       "        vertical-align: middle;\n",
       "    }\n",
       "\n",
       "    .dataframe tbody tr th {\n",
       "        vertical-align: top;\n",
       "    }\n",
       "\n",
       "    .dataframe thead th {\n",
       "        text-align: right;\n",
       "    }\n",
       "</style>\n",
       "<table border=\"1\" class=\"dataframe\">\n",
       "  <thead>\n",
       "    <tr style=\"text-align: right;\">\n",
       "      <th></th>\n",
       "      <th>title</th>\n",
       "      <th>text</th>\n",
       "      <th>subject</th>\n",
       "      <th>date</th>\n",
       "      <th>label</th>\n",
       "    </tr>\n",
       "  </thead>\n",
       "  <tbody>\n",
       "    <tr>\n",
       "      <th>0</th>\n",
       "      <td>As U.S. budget fight looms, Republicans flip t...</td>\n",
       "      <td>WASHINGTON (Reuters) - The head of a conservat...</td>\n",
       "      <td>politicsNews</td>\n",
       "      <td>December 31, 2017</td>\n",
       "      <td>fake</td>\n",
       "    </tr>\n",
       "    <tr>\n",
       "      <th>1</th>\n",
       "      <td>U.S. military to accept transgender recruits o...</td>\n",
       "      <td>WASHINGTON (Reuters) - Transgender people will...</td>\n",
       "      <td>politicsNews</td>\n",
       "      <td>December 29, 2017</td>\n",
       "      <td>fake</td>\n",
       "    </tr>\n",
       "    <tr>\n",
       "      <th>2</th>\n",
       "      <td>Senior U.S. Republican senator: 'Let Mr. Muell...</td>\n",
       "      <td>WASHINGTON (Reuters) - The special counsel inv...</td>\n",
       "      <td>politicsNews</td>\n",
       "      <td>December 31, 2017</td>\n",
       "      <td>fake</td>\n",
       "    </tr>\n",
       "    <tr>\n",
       "      <th>3</th>\n",
       "      <td>FBI Russia probe helped by Australian diplomat...</td>\n",
       "      <td>WASHINGTON (Reuters) - Trump campaign adviser ...</td>\n",
       "      <td>politicsNews</td>\n",
       "      <td>December 30, 2017</td>\n",
       "      <td>fake</td>\n",
       "    </tr>\n",
       "    <tr>\n",
       "      <th>4</th>\n",
       "      <td>Trump wants Postal Service to charge 'much mor...</td>\n",
       "      <td>SEATTLE/WASHINGTON (Reuters) - President Donal...</td>\n",
       "      <td>politicsNews</td>\n",
       "      <td>December 29, 2017</td>\n",
       "      <td>fake</td>\n",
       "    </tr>\n",
       "  </tbody>\n",
       "</table>\n",
       "</div>"
      ],
      "text/plain": [
       "                                               title  \\\n",
       "0  As U.S. budget fight looms, Republicans flip t...   \n",
       "1  U.S. military to accept transgender recruits o...   \n",
       "2  Senior U.S. Republican senator: 'Let Mr. Muell...   \n",
       "3  FBI Russia probe helped by Australian diplomat...   \n",
       "4  Trump wants Postal Service to charge 'much mor...   \n",
       "\n",
       "                                                text       subject  \\\n",
       "0  WASHINGTON (Reuters) - The head of a conservat...  politicsNews   \n",
       "1  WASHINGTON (Reuters) - Transgender people will...  politicsNews   \n",
       "2  WASHINGTON (Reuters) - The special counsel inv...  politicsNews   \n",
       "3  WASHINGTON (Reuters) - Trump campaign adviser ...  politicsNews   \n",
       "4  SEATTLE/WASHINGTON (Reuters) - President Donal...  politicsNews   \n",
       "\n",
       "                 date label  \n",
       "0  December 31, 2017   fake  \n",
       "1  December 29, 2017   fake  \n",
       "2  December 31, 2017   fake  \n",
       "3  December 30, 2017   fake  \n",
       "4  December 29, 2017   fake  "
      ]
     },
     "execution_count": 4,
     "metadata": {},
     "output_type": "execute_result"
    }
   ],
   "source": [
    "data.head()"
   ]
  },
  {
   "cell_type": "markdown",
   "metadata": {
    "papermill": {
     "duration": 0.096455,
     "end_time": "2020-12-21T10:10:55.56571",
     "exception": false,
     "start_time": "2020-12-21T10:10:55.469255",
     "status": "completed"
    },
    "tags": []
   },
   "source": [
    "# Selection of the interested columns for feature extraction "
   ]
  },
  {
   "cell_type": "code",
   "execution_count": 5,
   "metadata": {
    "execution": {
     "iopub.execute_input": "2021-08-15T10:06:42.208093Z",
     "iopub.status.busy": "2021-08-15T10:06:42.207738Z",
     "iopub.status.idle": "2021-08-15T10:06:42.218154Z",
     "shell.execute_reply": "2021-08-15T10:06:42.217270Z",
     "shell.execute_reply.started": "2021-08-15T10:06:42.208054Z"
    },
    "papermill": {
     "duration": 0.11041,
     "end_time": "2020-12-21T10:10:55.773573",
     "exception": false,
     "start_time": "2020-12-21T10:10:55.663163",
     "status": "completed"
    },
    "tags": []
   },
   "outputs": [],
   "source": [
    "data=data[['text','label']]"
   ]
  },
  {
   "cell_type": "code",
   "execution_count": 6,
   "metadata": {
    "execution": {
     "iopub.execute_input": "2021-08-15T10:06:44.165589Z",
     "iopub.status.busy": "2021-08-15T10:06:44.165220Z",
     "iopub.status.idle": "2021-08-15T10:06:44.177397Z",
     "shell.execute_reply": "2021-08-15T10:06:44.176353Z",
     "shell.execute_reply.started": "2021-08-15T10:06:44.165559Z"
    },
    "papermill": {
     "duration": 0.112273,
     "end_time": "2020-12-21T10:10:55.984075",
     "exception": false,
     "start_time": "2020-12-21T10:10:55.871802",
     "status": "completed"
    },
    "tags": []
   },
   "outputs": [
    {
     "data": {
      "text/html": [
       "<div>\n",
       "<style scoped>\n",
       "    .dataframe tbody tr th:only-of-type {\n",
       "        vertical-align: middle;\n",
       "    }\n",
       "\n",
       "    .dataframe tbody tr th {\n",
       "        vertical-align: top;\n",
       "    }\n",
       "\n",
       "    .dataframe thead th {\n",
       "        text-align: right;\n",
       "    }\n",
       "</style>\n",
       "<table border=\"1\" class=\"dataframe\">\n",
       "  <thead>\n",
       "    <tr style=\"text-align: right;\">\n",
       "      <th></th>\n",
       "      <th>text</th>\n",
       "      <th>label</th>\n",
       "    </tr>\n",
       "  </thead>\n",
       "  <tbody>\n",
       "    <tr>\n",
       "      <th>0</th>\n",
       "      <td>WASHINGTON (Reuters) - The head of a conservat...</td>\n",
       "      <td>fake</td>\n",
       "    </tr>\n",
       "    <tr>\n",
       "      <th>1</th>\n",
       "      <td>WASHINGTON (Reuters) - Transgender people will...</td>\n",
       "      <td>fake</td>\n",
       "    </tr>\n",
       "    <tr>\n",
       "      <th>2</th>\n",
       "      <td>WASHINGTON (Reuters) - The special counsel inv...</td>\n",
       "      <td>fake</td>\n",
       "    </tr>\n",
       "    <tr>\n",
       "      <th>3</th>\n",
       "      <td>WASHINGTON (Reuters) - Trump campaign adviser ...</td>\n",
       "      <td>fake</td>\n",
       "    </tr>\n",
       "    <tr>\n",
       "      <th>4</th>\n",
       "      <td>SEATTLE/WASHINGTON (Reuters) - President Donal...</td>\n",
       "      <td>fake</td>\n",
       "    </tr>\n",
       "  </tbody>\n",
       "</table>\n",
       "</div>"
      ],
      "text/plain": [
       "                                                text label\n",
       "0  WASHINGTON (Reuters) - The head of a conservat...  fake\n",
       "1  WASHINGTON (Reuters) - Transgender people will...  fake\n",
       "2  WASHINGTON (Reuters) - The special counsel inv...  fake\n",
       "3  WASHINGTON (Reuters) - Trump campaign adviser ...  fake\n",
       "4  SEATTLE/WASHINGTON (Reuters) - President Donal...  fake"
      ]
     },
     "execution_count": 6,
     "metadata": {},
     "output_type": "execute_result"
    }
   ],
   "source": [
    "data.head()"
   ]
  },
  {
   "cell_type": "markdown",
   "metadata": {
    "papermill": {
     "duration": 0.098454,
     "end_time": "2020-12-21T10:10:56.180347",
     "exception": false,
     "start_time": "2020-12-21T10:10:56.081893",
     "status": "completed"
    },
    "tags": []
   },
   "source": [
    "# Count of the dataset"
   ]
  },
  {
   "cell_type": "code",
   "execution_count": 7,
   "metadata": {
    "execution": {
     "iopub.execute_input": "2021-08-15T10:06:47.413427Z",
     "iopub.status.busy": "2021-08-15T10:06:47.413096Z",
     "iopub.status.idle": "2021-08-15T10:06:47.421230Z",
     "shell.execute_reply": "2021-08-15T10:06:47.418315Z",
     "shell.execute_reply.started": "2021-08-15T10:06:47.413396Z"
    },
    "papermill": {
     "duration": 0.113353,
     "end_time": "2020-12-21T10:10:56.394686",
     "exception": false,
     "start_time": "2020-12-21T10:10:56.281333",
     "status": "completed"
    },
    "tags": []
   },
   "outputs": [
    {
     "name": "stdout",
     "output_type": "stream",
     "text": [
      "Count of the dataset is:  44898\n"
     ]
    }
   ],
   "source": [
    "print('Count of the dataset is: ', len(data))"
   ]
  },
  {
   "cell_type": "markdown",
   "metadata": {
    "papermill": {
     "duration": 0.097921,
     "end_time": "2020-12-21T10:10:56.590753",
     "exception": false,
     "start_time": "2020-12-21T10:10:56.492832",
     "status": "completed"
    },
    "tags": []
   },
   "source": [
    "# Dataset analysis and Preprocessing"
   ]
  },
  {
   "cell_type": "markdown",
   "metadata": {
    "papermill": {
     "duration": 0.096892,
     "end_time": "2020-12-21T10:10:56.786555",
     "exception": false,
     "start_time": "2020-12-21T10:10:56.689663",
     "status": "completed"
    },
    "tags": []
   },
   "source": [
    "# text text in lower case"
   ]
  },
  {
   "cell_type": "code",
   "execution_count": 8,
   "metadata": {
    "execution": {
     "iopub.execute_input": "2021-08-15T10:06:49.948707Z",
     "iopub.status.busy": "2021-08-15T10:06:49.948372Z",
     "iopub.status.idle": "2021-08-15T10:06:50.252385Z",
     "shell.execute_reply": "2021-08-15T10:06:50.251428Z",
     "shell.execute_reply.started": "2021-08-15T10:06:49.948677Z"
    },
    "papermill": {
     "duration": 0.113387,
     "end_time": "2020-12-21T10:10:56.997335",
     "exception": false,
     "start_time": "2020-12-21T10:10:56.883948",
     "status": "completed"
    },
    "tags": []
   },
   "outputs": [],
   "source": [
    "data['text']=data['text'].str.lower()"
   ]
  },
  {
   "cell_type": "code",
   "execution_count": 9,
   "metadata": {
    "execution": {
     "iopub.execute_input": "2021-08-15T10:06:52.822534Z",
     "iopub.status.busy": "2021-08-15T10:06:52.822116Z",
     "iopub.status.idle": "2021-08-15T10:06:52.829105Z",
     "shell.execute_reply": "2021-08-15T10:06:52.828140Z",
     "shell.execute_reply.started": "2021-08-15T10:06:52.822499Z"
    },
    "papermill": {
     "duration": 0.119297,
     "end_time": "2020-12-21T10:10:57.216313",
     "exception": false,
     "start_time": "2020-12-21T10:10:57.097016",
     "status": "completed"
    },
    "tags": []
   },
   "outputs": [
    {
     "data": {
      "text/plain": [
       "0    washington (reuters) - the head of a conservat...\n",
       "1    washington (reuters) - transgender people will...\n",
       "2    washington (reuters) - the special counsel inv...\n",
       "3    washington (reuters) - trump campaign adviser ...\n",
       "4    seattle/washington (reuters) - president donal...\n",
       "Name: text, dtype: object"
      ]
     },
     "execution_count": 9,
     "metadata": {},
     "output_type": "execute_result"
    }
   ],
   "source": [
    "data['text'].head()"
   ]
  },
  {
   "cell_type": "markdown",
   "metadata": {
    "papermill": {
     "duration": 0.101214,
     "end_time": "2020-12-21T10:10:57.415505",
     "exception": false,
     "start_time": "2020-12-21T10:10:57.314291",
     "status": "completed"
    },
    "tags": []
   },
   "source": [
    "# all columns"
   ]
  },
  {
   "cell_type": "code",
   "execution_count": 10,
   "metadata": {
    "execution": {
     "iopub.execute_input": "2021-08-15T10:07:08.167375Z",
     "iopub.status.busy": "2021-08-15T10:07:08.167031Z",
     "iopub.status.idle": "2021-08-15T10:07:08.173131Z",
     "shell.execute_reply": "2021-08-15T10:07:08.172027Z",
     "shell.execute_reply.started": "2021-08-15T10:07:08.167345Z"
    },
    "papermill": {
     "duration": 0.108363,
     "end_time": "2020-12-21T10:10:57.624235",
     "exception": false,
     "start_time": "2020-12-21T10:10:57.515872",
     "status": "completed"
    },
    "tags": []
   },
   "outputs": [
    {
     "data": {
      "text/plain": [
       "Index(['text', 'label'], dtype='object')"
      ]
     },
     "execution_count": 10,
     "metadata": {},
     "output_type": "execute_result"
    }
   ],
   "source": [
    "data.columns"
   ]
  },
  {
   "cell_type": "markdown",
   "metadata": {
    "papermill": {
     "duration": 0.099599,
     "end_time": "2020-12-21T10:10:57.823238",
     "exception": false,
     "start_time": "2020-12-21T10:10:57.723639",
     "status": "completed"
    },
    "tags": []
   },
   "source": [
    "# Unique texts labels"
   ]
  },
  {
   "cell_type": "code",
   "execution_count": 11,
   "metadata": {
    "execution": {
     "iopub.execute_input": "2021-08-15T10:07:11.125835Z",
     "iopub.status.busy": "2021-08-15T10:07:11.125489Z",
     "iopub.status.idle": "2021-08-15T10:07:11.135459Z",
     "shell.execute_reply": "2021-08-15T10:07:11.134454Z",
     "shell.execute_reply.started": "2021-08-15T10:07:11.125803Z"
    },
    "papermill": {
     "duration": 0.110185,
     "end_time": "2020-12-21T10:10:58.033395",
     "exception": false,
     "start_time": "2020-12-21T10:10:57.92321",
     "status": "completed"
    },
    "tags": []
   },
   "outputs": [
    {
     "data": {
      "text/plain": [
       "array(['fake', 'true'], dtype=object)"
      ]
     },
     "execution_count": 11,
     "metadata": {},
     "output_type": "execute_result"
    }
   ],
   "source": [
    "data['label'].unique()"
   ]
  },
  {
   "cell_type": "markdown",
   "metadata": {
    "papermill": {
     "duration": 0.099183,
     "end_time": "2020-12-21T10:10:58.232711",
     "exception": false,
     "start_time": "2020-12-21T10:10:58.133528",
     "status": "completed"
    },
    "tags": []
   },
   "source": [
    "# data types of all columns"
   ]
  },
  {
   "cell_type": "code",
   "execution_count": 12,
   "metadata": {
    "execution": {
     "iopub.execute_input": "2021-08-15T10:07:13.965879Z",
     "iopub.status.busy": "2021-08-15T10:07:13.965554Z",
     "iopub.status.idle": "2021-08-15T10:07:13.974855Z",
     "shell.execute_reply": "2021-08-15T10:07:13.973778Z",
     "shell.execute_reply.started": "2021-08-15T10:07:13.965849Z"
    },
    "papermill": {
     "duration": 0.109215,
     "end_time": "2020-12-21T10:10:58.439539",
     "exception": false,
     "start_time": "2020-12-21T10:10:58.330324",
     "status": "completed"
    },
    "tags": []
   },
   "outputs": [
    {
     "data": {
      "text/plain": [
       "text     object\n",
       "label    object\n",
       "dtype: object"
      ]
     },
     "execution_count": 12,
     "metadata": {},
     "output_type": "execute_result"
    }
   ],
   "source": [
    "data.dtypes"
   ]
  },
  {
   "cell_type": "markdown",
   "metadata": {
    "papermill": {
     "duration": 0.101506,
     "end_time": "2020-12-21T10:10:58.644196",
     "exception": false,
     "start_time": "2020-12-21T10:10:58.54269",
     "status": "completed"
    },
    "tags": []
   },
   "source": [
    "# Checking Null values"
   ]
  },
  {
   "cell_type": "code",
   "execution_count": 13,
   "metadata": {
    "execution": {
     "iopub.execute_input": "2021-08-15T10:07:15.636222Z",
     "iopub.status.busy": "2021-08-15T10:07:15.635886Z",
     "iopub.status.idle": "2021-08-15T10:07:15.661492Z",
     "shell.execute_reply": "2021-08-15T10:07:15.660829Z",
     "shell.execute_reply.started": "2021-08-15T10:07:15.636193Z"
    },
    "papermill": {
     "duration": 0.116167,
     "end_time": "2020-12-21T10:10:58.862343",
     "exception": false,
     "start_time": "2020-12-21T10:10:58.746176",
     "status": "completed"
    },
    "scrolled": true,
    "tags": []
   },
   "outputs": [
    {
     "data": {
      "text/html": [
       "<div>\n",
       "<style scoped>\n",
       "    .dataframe tbody tr th:only-of-type {\n",
       "        vertical-align: middle;\n",
       "    }\n",
       "\n",
       "    .dataframe tbody tr th {\n",
       "        vertical-align: top;\n",
       "    }\n",
       "\n",
       "    .dataframe thead th {\n",
       "        text-align: right;\n",
       "    }\n",
       "</style>\n",
       "<table border=\"1\" class=\"dataframe\">\n",
       "  <thead>\n",
       "    <tr style=\"text-align: right;\">\n",
       "      <th></th>\n",
       "      <th>text</th>\n",
       "      <th>label</th>\n",
       "    </tr>\n",
       "  </thead>\n",
       "  <tbody>\n",
       "  </tbody>\n",
       "</table>\n",
       "</div>"
      ],
      "text/plain": [
       "Empty DataFrame\n",
       "Columns: [text, label]\n",
       "Index: []"
      ]
     },
     "execution_count": 13,
     "metadata": {},
     "output_type": "execute_result"
    }
   ],
   "source": [
    "data[data.isnull().any(axis=1)]"
   ]
  },
  {
   "cell_type": "markdown",
   "metadata": {
    "papermill": {
     "duration": 0.110868,
     "end_time": "2020-12-21T10:10:59.07554",
     "exception": false,
     "start_time": "2020-12-21T10:10:58.964672",
     "status": "completed"
    },
    "tags": []
   },
   "source": [
    "# Count of Null values"
   ]
  },
  {
   "cell_type": "code",
   "execution_count": 14,
   "metadata": {
    "execution": {
     "iopub.execute_input": "2021-08-15T10:07:17.738176Z",
     "iopub.status.busy": "2021-08-15T10:07:17.737858Z",
     "iopub.status.idle": "2021-08-15T10:07:17.760453Z",
     "shell.execute_reply": "2021-08-15T10:07:17.758446Z",
     "shell.execute_reply.started": "2021-08-15T10:07:17.738147Z"
    },
    "papermill": {
     "duration": 0.112581,
     "end_time": "2020-12-21T10:10:59.296281",
     "exception": false,
     "start_time": "2020-12-21T10:10:59.1837",
     "status": "completed"
    },
    "scrolled": true,
    "tags": []
   },
   "outputs": [
    {
     "data": {
      "text/plain": [
       "0"
      ]
     },
     "execution_count": 14,
     "metadata": {},
     "output_type": "execute_result"
    }
   ],
   "source": [
    "import numpy as np\n",
    "np.sum(data.isnull().any(axis=1))"
   ]
  },
  {
   "cell_type": "markdown",
   "metadata": {
    "papermill": {
     "duration": 0.099227,
     "end_time": "2020-12-21T10:10:59.496168",
     "exception": false,
     "start_time": "2020-12-21T10:10:59.396941",
     "status": "completed"
    },
    "tags": []
   },
   "source": [
    "# Data information"
   ]
  },
  {
   "cell_type": "code",
   "execution_count": 15,
   "metadata": {
    "execution": {
     "iopub.execute_input": "2021-08-15T10:07:20.773700Z",
     "iopub.status.busy": "2021-08-15T10:07:20.773306Z",
     "iopub.status.idle": "2021-08-15T10:07:20.801969Z",
     "shell.execute_reply": "2021-08-15T10:07:20.801196Z",
     "shell.execute_reply.started": "2021-08-15T10:07:20.773667Z"
    },
    "papermill": {
     "duration": 0.124682,
     "end_time": "2020-12-21T10:10:59.721704",
     "exception": false,
     "start_time": "2020-12-21T10:10:59.597022",
     "status": "completed"
    },
    "tags": []
   },
   "outputs": [
    {
     "name": "stdout",
     "output_type": "stream",
     "text": [
      "<class 'pandas.core.frame.DataFrame'>\n",
      "Int64Index: 44898 entries, 0 to 23480\n",
      "Data columns (total 2 columns):\n",
      " #   Column  Non-Null Count  Dtype \n",
      "---  ------  --------------  ----- \n",
      " 0   text    44898 non-null  object\n",
      " 1   label   44898 non-null  object\n",
      "dtypes: object(2)\n",
      "memory usage: 1.0+ MB\n"
     ]
    }
   ],
   "source": [
    "data.info()"
   ]
  },
  {
   "cell_type": "markdown",
   "metadata": {
    "papermill": {
     "duration": 0.100145,
     "end_time": "2020-12-21T10:10:59.922044",
     "exception": false,
     "start_time": "2020-12-21T10:10:59.821899",
     "status": "completed"
    },
    "tags": []
   },
   "source": [
    "# Frequency Distribution of label"
   ]
  },
  {
   "cell_type": "code",
   "execution_count": 16,
   "metadata": {
    "execution": {
     "iopub.execute_input": "2021-08-15T10:07:22.777527Z",
     "iopub.status.busy": "2021-08-15T10:07:22.777160Z",
     "iopub.status.idle": "2021-08-15T10:07:22.971279Z",
     "shell.execute_reply": "2021-08-15T10:07:22.970075Z",
     "shell.execute_reply.started": "2021-08-15T10:07:22.777486Z"
    },
    "papermill": {
     "duration": 0.307097,
     "end_time": "2020-12-21T10:11:00.330409",
     "exception": false,
     "start_time": "2020-12-21T10:11:00.023312",
     "status": "completed"
    },
    "tags": []
   },
   "outputs": [
    {
     "data": {
      "image/png": "[encoded data removed]",
      "text/plain": [
       "<Figure size 432x288 with 1 Axes>"
      ]
     },
     "metadata": {},
     "output_type": "display_data"
    }
   ],
   "source": [
    "%matplotlib inline\n",
    "carrier_count = data[\"label\"].value_counts()\n",
    "sns.set(style=\"darkgrid\")\n",
    "sns.barplot(carrier_count.index, carrier_count.values, alpha=0.9)\n",
    "plt.title('Frequency Distribution of label')\n",
    "plt.ylabel('Number of Occurrences', fontsize=12)\n",
    "plt.xlabel('Carrier', fontsize=12)\n",
    "plt.show()"
   ]
  },
  {
   "cell_type": "code",
   "execution_count": 17,
   "metadata": {
    "execution": {
     "iopub.execute_input": "2021-08-15T10:07:26.505634Z",
     "iopub.status.busy": "2021-08-15T10:07:26.505250Z",
     "iopub.status.idle": "2021-08-15T10:07:26.628258Z",
     "shell.execute_reply": "2021-08-15T10:07:26.627563Z",
     "shell.execute_reply.started": "2021-08-15T10:07:26.505601Z"
    },
    "papermill": {
     "duration": 0.239393,
     "end_time": "2020-12-21T10:11:00.67181",
     "exception": false,
     "start_time": "2020-12-21T10:11:00.432417",
     "status": "completed"
    },
    "tags": []
   },
   "outputs": [
    {
     "data": {
      "text/plain": [
       "<matplotlib.legend.Legend at 0x7f267a771490>"
      ]
     },
     "execution_count": 17,
     "metadata": {},
     "output_type": "execute_result"
    },
    {
     "data": {
      "image/png": "[encoded data removed]",
      "text/plain": [
       "<Figure size 576x576 with 1 Axes>"
      ]
     },
     "metadata": {},
     "output_type": "display_data"
    }
   ],
   "source": [
    "data[\"label\"].value_counts().head(3).plot(kind = 'pie', autopct='%1.1f%%', figsize=(8, 8)).legend()"
   ]
  },
  {
   "cell_type": "code",
   "execution_count": 18,
   "metadata": {
    "execution": {
     "iopub.execute_input": "2021-08-15T10:07:29.267482Z",
     "iopub.status.busy": "2021-08-15T10:07:29.267134Z",
     "iopub.status.idle": "2021-08-15T10:07:29.285090Z",
     "shell.execute_reply": "2021-08-15T10:07:29.284164Z",
     "shell.execute_reply.started": "2021-08-15T10:07:29.267452Z"
    },
    "papermill": {
     "duration": 0.119888,
     "end_time": "2020-12-21T10:11:00.895563",
     "exception": false,
     "start_time": "2020-12-21T10:11:00.775675",
     "status": "completed"
    },
    "tags": []
   },
   "outputs": [
    {
     "data": {
      "text/plain": [
       "true    23481\n",
       "fake    21417\n",
       "Name: label, dtype: int64"
      ]
     },
     "execution_count": 18,
     "metadata": {},
     "output_type": "execute_result"
    }
   ],
   "source": [
    "data[\"label\"].value_counts()"
   ]
  },
  {
   "cell_type": "markdown",
   "metadata": {
    "papermill": {
     "duration": 0.10284,
     "end_time": "2020-12-21T10:11:01.102193",
     "exception": false,
     "start_time": "2020-12-21T10:11:00.999353",
     "status": "completed"
    },
    "tags": []
   },
   "source": [
    "# Preproccessing of words"
   ]
  },
  {
   "cell_type": "code",
   "execution_count": 19,
   "metadata": {
    "execution": {
     "iopub.execute_input": "2021-08-15T10:07:31.735432Z",
     "iopub.status.busy": "2021-08-15T10:07:31.735099Z",
     "iopub.status.idle": "2021-08-15T10:07:32.658619Z",
     "shell.execute_reply": "2021-08-15T10:07:32.657598Z",
     "shell.execute_reply.started": "2021-08-15T10:07:31.735402Z"
    },
    "papermill": {
     "duration": 0.217175,
     "end_time": "2020-12-21T10:11:01.426761",
     "exception": false,
     "start_time": "2020-12-21T10:11:01.209586",
     "status": "completed"
    },
    "tags": []
   },
   "outputs": [],
   "source": [
    "data.loc[data[\"text\"].str.contains('america'), 'text'] = 'american'\n",
    "data.loc[data[\"text\"].str.contains('americans'), 'text'] = 'american'\n",
    "data.loc[data[\"text\"].str.contains('youore'), 'text'] = 'you are'\n",
    "data.loc[data[\"text\"].str.contains('youre'), 'text'] = 'you are'\n",
    "data.loc[data[\"text\"].str.contains('years'), 'text'] = 'year'\n",
    "data.loc[data[\"text\"].str.contains('break'), 'text'] = 'breakingnews'\n",
    "data.loc[data[\"text\"].str.contains('breaking'), 'text'] = 'breakingnews'\n",
    "data.loc[data[\"text\"].str.contains('caused'), 'text'] = 'cause'\n",
    "data.loc[data[\"text\"].str.contains('causes'), 'text'] = 'cause'\n",
    "data.loc[data[\"text\"].str.contains('county'), 'text'] = 'country'"
   ]
  },
  {
   "cell_type": "code",
   "execution_count": 20,
   "metadata": {
    "execution": {
     "iopub.execute_input": "2021-08-15T10:07:35.113936Z",
     "iopub.status.busy": "2021-08-15T10:07:35.113613Z",
     "iopub.status.idle": "2021-08-15T10:07:35.894155Z",
     "shell.execute_reply": "2021-08-15T10:07:35.893358Z",
     "shell.execute_reply.started": "2021-08-15T10:07:35.113906Z"
    },
    "papermill": {
     "duration": 0.179441,
     "end_time": "2020-12-21T10:11:01.708706",
     "exception": false,
     "start_time": "2020-12-21T10:11:01.529265",
     "status": "completed"
    },
    "tags": []
   },
   "outputs": [],
   "source": [
    "for letter in '1234567890.(/':\n",
    "    data[\"text\"] = data[\"text\"].str.replace(letter,'')"
   ]
  },
  {
   "cell_type": "markdown",
   "metadata": {
    "papermill": {
     "duration": 0.105173,
     "end_time": "2020-12-21T10:11:01.917908",
     "exception": false,
     "start_time": "2020-12-21T10:11:01.812735",
     "status": "completed"
    },
    "tags": []
   },
   "source": [
    "# Preprocess data on Descripcion"
   ]
  },
  {
   "cell_type": "code",
   "execution_count": 21,
   "metadata": {
    "execution": {
     "iopub.execute_input": "2021-08-15T10:07:37.714233Z",
     "iopub.status.busy": "2021-08-15T10:07:37.713910Z",
     "iopub.status.idle": "2021-08-15T10:07:37.720423Z",
     "shell.execute_reply": "2021-08-15T10:07:37.719491Z",
     "shell.execute_reply.started": "2021-08-15T10:07:37.714203Z"
    },
    "papermill": {
     "duration": 0.114973,
     "end_time": "2020-12-21T10:11:02.136054",
     "exception": false,
     "start_time": "2020-12-21T10:11:02.021081",
     "status": "completed"
    },
    "tags": []
   },
   "outputs": [],
   "source": [
    "english_punctuations = string.punctuation\n",
    "punctuations_list = english_punctuations + english_punctuations\n",
    "\n",
    "def remove_punctuations(text):\n",
    "    translator = str.maketrans('', '', punctuations_list)\n",
    "    return text.translate(translator)"
   ]
  },
  {
   "cell_type": "markdown",
   "metadata": {
    "papermill": {
     "duration": 0.101997,
     "end_time": "2020-12-21T10:11:02.343592",
     "exception": false,
     "start_time": "2020-12-21T10:11:02.241595",
     "status": "completed"
    },
    "tags": []
   },
   "source": [
    "# Remove_repeating_char"
   ]
  },
  {
   "cell_type": "code",
   "execution_count": 22,
   "metadata": {
    "execution": {
     "iopub.execute_input": "2021-08-15T10:07:43.620676Z",
     "iopub.status.busy": "2021-08-15T10:07:43.620305Z",
     "iopub.status.idle": "2021-08-15T10:07:43.626776Z",
     "shell.execute_reply": "2021-08-15T10:07:43.624964Z",
     "shell.execute_reply.started": "2021-08-15T10:07:43.620645Z"
    },
    "papermill": {
     "duration": 0.111473,
     "end_time": "2020-12-21T10:11:02.5589",
     "exception": false,
     "start_time": "2020-12-21T10:11:02.447427",
     "status": "completed"
    },
    "tags": []
   },
   "outputs": [],
   "source": [
    "def remove_repeating_char(text):\n",
    "    return re.sub(r'(.)\\1+', r'\\1', text)"
   ]
  },
  {
   "cell_type": "markdown",
   "metadata": {
    "papermill": {
     "duration": 0.102811,
     "end_time": "2020-12-21T10:11:02.764443",
     "exception": false,
     "start_time": "2020-12-21T10:11:02.661632",
     "status": "completed"
    },
    "tags": []
   },
   "source": [
    "# ProcessPost for applying all functions"
   ]
  },
  {
   "cell_type": "code",
   "execution_count": 23,
   "metadata": {
    "execution": {
     "iopub.execute_input": "2021-08-15T10:07:46.527429Z",
     "iopub.status.busy": "2021-08-15T10:07:46.527085Z",
     "iopub.status.idle": "2021-08-15T10:07:46.533235Z",
     "shell.execute_reply": "2021-08-15T10:07:46.532104Z",
     "shell.execute_reply.started": "2021-08-15T10:07:46.527397Z"
    },
    "papermill": {
     "duration": 0.115091,
     "end_time": "2020-12-21T10:11:02.982602",
     "exception": false,
     "start_time": "2020-12-21T10:11:02.867511",
     "status": "completed"
    },
    "tags": []
   },
   "outputs": [],
   "source": [
    "def processPost(text): \n",
    "\n",
    "    text = re.sub('@[^\\s]+', ' ', text)\n",
    "    \n",
    "\n",
    "    text = re.sub('((www\\.[^\\s]+)|(https?://[^\\s]+))',' ',text)\n",
    "\n",
    "    text = re.sub(r'#([^\\s]+)', r'\\1', text)\n",
    "\n",
    "    text= remove_punctuations(text)\n",
    "    text=remove_repeating_char(text)\n",
    "    \n",
    "    return text"
   ]
  },
  {
   "cell_type": "markdown",
   "metadata": {
    "papermill": {
     "duration": 0.109967,
     "end_time": "2020-12-21T10:11:03.197759",
     "exception": false,
     "start_time": "2020-12-21T10:11:03.087792",
     "status": "completed"
    },
    "tags": []
   },
   "source": [
    "# Applying processPost function for preprocessing"
   ]
  },
  {
   "cell_type": "code",
   "execution_count": 24,
   "metadata": {
    "execution": {
     "iopub.execute_input": "2021-08-15T10:07:48.298787Z",
     "iopub.status.busy": "2021-08-15T10:07:48.298434Z",
     "iopub.status.idle": "2021-08-15T10:07:57.745810Z",
     "shell.execute_reply": "2021-08-15T10:07:57.744841Z",
     "shell.execute_reply.started": "2021-08-15T10:07:48.298756Z"
    },
    "papermill": {
     "duration": 0.328674,
     "end_time": "2020-12-21T10:11:03.63016",
     "exception": false,
     "start_time": "2020-12-21T10:11:03.301486",
     "status": "completed"
    },
    "tags": []
   },
   "outputs": [],
   "source": [
    "data[\"text\"] = data[\"text\"].apply(lambda x: processPost(x))"
   ]
  },
  {
   "cell_type": "markdown",
   "metadata": {
    "papermill": {
     "duration": 0.102938,
     "end_time": "2020-12-21T10:11:03.836761",
     "exception": false,
     "start_time": "2020-12-21T10:11:03.733823",
     "status": "completed"
    },
    "tags": []
   },
   "source": [
    "# Getting Tokenization"
   ]
  },
  {
   "cell_type": "code",
   "execution_count": 25,
   "metadata": {
    "execution": {
     "iopub.execute_input": "2021-08-15T10:07:57.748638Z",
     "iopub.status.busy": "2021-08-15T10:07:57.748365Z",
     "iopub.status.idle": "2021-08-15T10:08:00.017440Z",
     "shell.execute_reply": "2021-08-15T10:08:00.016649Z",
     "shell.execute_reply.started": "2021-08-15T10:07:57.748612Z"
    },
    "papermill": {
     "duration": 0.157082,
     "end_time": "2020-12-21T10:11:04.09836",
     "exception": false,
     "start_time": "2020-12-21T10:11:03.941278",
     "status": "completed"
    },
    "tags": []
   },
   "outputs": [],
   "source": [
    "tokenizer = RegexpTokenizer(r'\\w+')\n",
    "data[\"text\"] = data[\"text\"].apply(tokenizer.tokenize)"
   ]
  },
  {
   "cell_type": "code",
   "execution_count": 26,
   "metadata": {
    "execution": {
     "iopub.execute_input": "2021-08-15T10:08:00.624233Z",
     "iopub.status.busy": "2021-08-15T10:08:00.623897Z",
     "iopub.status.idle": "2021-08-15T10:08:00.633015Z",
     "shell.execute_reply": "2021-08-15T10:08:00.632013Z",
     "shell.execute_reply.started": "2021-08-15T10:08:00.624203Z"
    },
    "papermill": {
     "duration": 0.116786,
     "end_time": "2020-12-21T10:11:04.319925",
     "exception": false,
     "start_time": "2020-12-21T10:11:04.203139",
     "status": "completed"
    },
    "tags": []
   },
   "outputs": [
    {
     "data": {
      "text/plain": [
       "0                                               [year]\n",
       "1                                           [american]\n",
       "2    [washington, reuters, the, special, counsel, i...\n",
       "3                                           [american]\n",
       "4                                           [american]\n",
       "Name: text, dtype: object"
      ]
     },
     "execution_count": 26,
     "metadata": {},
     "output_type": "execute_result"
    }
   ],
   "source": [
    "data[\"text\"].head()"
   ]
  },
  {
   "cell_type": "markdown",
   "metadata": {
    "papermill": {
     "duration": 0.103135,
     "end_time": "2020-12-21T10:11:04.526711",
     "exception": false,
     "start_time": "2020-12-21T10:11:04.423576",
     "status": "completed"
    },
    "tags": []
   },
   "source": [
    "# Stop words of english"
   ]
  },
  {
   "cell_type": "code",
   "execution_count": 27,
   "metadata": {
    "execution": {
     "iopub.execute_input": "2021-08-15T10:08:06.074839Z",
     "iopub.status.busy": "2021-08-15T10:08:06.074432Z",
     "iopub.status.idle": "2021-08-15T10:08:06.087757Z",
     "shell.execute_reply": "2021-08-15T10:08:06.086801Z",
     "shell.execute_reply.started": "2021-08-15T10:08:06.074809Z"
    },
    "papermill": {
     "duration": 0.120977,
     "end_time": "2020-12-21T10:11:04.752857",
     "exception": false,
     "start_time": "2020-12-21T10:11:04.63188",
     "status": "completed"
    },
    "tags": []
   },
   "outputs": [],
   "source": [
    "stopwords_list = stopwords.words('english')"
   ]
  },
  {
   "cell_type": "code",
   "execution_count": 28,
   "metadata": {
    "execution": {
     "iopub.execute_input": "2021-08-15T10:08:08.584753Z",
     "iopub.status.busy": "2021-08-15T10:08:08.584424Z",
     "iopub.status.idle": "2021-08-15T10:08:08.595295Z",
     "shell.execute_reply": "2021-08-15T10:08:08.593485Z",
     "shell.execute_reply.started": "2021-08-15T10:08:08.584723Z"
    },
    "papermill": {
     "duration": 0.116577,
     "end_time": "2020-12-21T10:11:04.974203",
     "exception": false,
     "start_time": "2020-12-21T10:11:04.857626",
     "status": "completed"
    },
    "tags": []
   },
   "outputs": [
    {
     "data": {
      "text/plain": [
       "['i',\n",
       " 'me',\n",
       " 'my',\n",
       " 'myself',\n",
       " 'we',\n",
       " 'our',\n",
       " 'ours',\n",
       " 'ourselves',\n",
       " 'you',\n",
       " \"you're\",\n",
       " \"you've\",\n",
       " \"you'll\",\n",
       " \"you'd\",\n",
       " 'your',\n",
       " 'yours',\n",
       " 'yourself',\n",
       " 'yourselves',\n",
       " 'he',\n",
       " 'him',\n",
       " 'his',\n",
       " 'himself',\n",
       " 'she',\n",
       " \"she's\",\n",
       " 'her',\n",
       " 'hers',\n",
       " 'herself',\n",
       " 'it',\n",
       " \"it's\",\n",
       " 'its',\n",
       " 'itself',\n",
       " 'they',\n",
       " 'them',\n",
       " 'their',\n",
       " 'theirs',\n",
       " 'themselves',\n",
       " 'what',\n",
       " 'which',\n",
       " 'who',\n",
       " 'whom',\n",
       " 'this',\n",
       " 'that',\n",
       " \"that'll\",\n",
       " 'these',\n",
       " 'those',\n",
       " 'am',\n",
       " 'is',\n",
       " 'are',\n",
       " 'was',\n",
       " 'were',\n",
       " 'be',\n",
       " 'been',\n",
       " 'being',\n",
       " 'have',\n",
       " 'has',\n",
       " 'had',\n",
       " 'having',\n",
       " 'do',\n",
       " 'does',\n",
       " 'did',\n",
       " 'doing',\n",
       " 'a',\n",
       " 'an',\n",
       " 'the',\n",
       " 'and',\n",
       " 'but',\n",
       " 'if',\n",
       " 'or',\n",
       " 'because',\n",
       " 'as',\n",
       " 'until',\n",
       " 'while',\n",
       " 'of',\n",
       " 'at',\n",
       " 'by',\n",
       " 'for',\n",
       " 'with',\n",
       " 'about',\n",
       " 'against',\n",
       " 'between',\n",
       " 'into',\n",
       " 'through',\n",
       " 'during',\n",
       " 'before',\n",
       " 'after',\n",
       " 'above',\n",
       " 'below',\n",
       " 'to',\n",
       " 'from',\n",
       " 'up',\n",
       " 'down',\n",
       " 'in',\n",
       " 'out',\n",
       " 'on',\n",
       " 'off',\n",
       " 'over',\n",
       " 'under',\n",
       " 'again',\n",
       " 'further',\n",
       " 'then',\n",
       " 'once',\n",
       " 'here',\n",
       " 'there',\n",
       " 'when',\n",
       " 'where',\n",
       " 'why',\n",
       " 'how',\n",
       " 'all',\n",
       " 'any',\n",
       " 'both',\n",
       " 'each',\n",
       " 'few',\n",
       " 'more',\n",
       " 'most',\n",
       " 'other',\n",
       " 'some',\n",
       " 'such',\n",
       " 'no',\n",
       " 'nor',\n",
       " 'not',\n",
       " 'only',\n",
       " 'own',\n",
       " 'same',\n",
       " 'so',\n",
       " 'than',\n",
       " 'too',\n",
       " 'very',\n",
       " 's',\n",
       " 't',\n",
       " 'can',\n",
       " 'will',\n",
       " 'just',\n",
       " 'don',\n",
       " \"don't\",\n",
       " 'should',\n",
       " \"should've\",\n",
       " 'now',\n",
       " 'd',\n",
       " 'll',\n",
       " 'm',\n",
       " 'o',\n",
       " 're',\n",
       " 've',\n",
       " 'y',\n",
       " 'ain',\n",
       " 'aren',\n",
       " \"aren't\",\n",
       " 'couldn',\n",
       " \"couldn't\",\n",
       " 'didn',\n",
       " \"didn't\",\n",
       " 'doesn',\n",
       " \"doesn't\",\n",
       " 'hadn',\n",
       " \"hadn't\",\n",
       " 'hasn',\n",
       " \"hasn't\",\n",
       " 'haven',\n",
       " \"haven't\",\n",
       " 'isn',\n",
       " \"isn't\",\n",
       " 'ma',\n",
       " 'mightn',\n",
       " \"mightn't\",\n",
       " 'mustn',\n",
       " \"mustn't\",\n",
       " 'needn',\n",
       " \"needn't\",\n",
       " 'shan',\n",
       " \"shan't\",\n",
       " 'shouldn',\n",
       " \"shouldn't\",\n",
       " 'wasn',\n",
       " \"wasn't\",\n",
       " 'weren',\n",
       " \"weren't\",\n",
       " 'won',\n",
       " \"won't\",\n",
       " 'wouldn',\n",
       " \"wouldn't\"]"
      ]
     },
     "execution_count": 28,
     "metadata": {},
     "output_type": "execute_result"
    }
   ],
   "source": [
    "stopwords_list"
   ]
  },
  {
   "cell_type": "code",
   "execution_count": 29,
   "metadata": {
    "execution": {
     "iopub.execute_input": "2021-08-15T10:08:11.499166Z",
     "iopub.status.busy": "2021-08-15T10:08:11.498843Z",
     "iopub.status.idle": "2021-08-15T10:08:11.504523Z",
     "shell.execute_reply": "2021-08-15T10:08:11.503635Z",
     "shell.execute_reply.started": "2021-08-15T10:08:11.499137Z"
    },
    "papermill": {
     "duration": 0.120041,
     "end_time": "2020-12-21T10:11:05.198541",
     "exception": false,
     "start_time": "2020-12-21T10:11:05.0785",
     "status": "completed"
    },
    "tags": []
   },
   "outputs": [
    {
     "data": {
      "text/plain": [
       "179"
      ]
     },
     "execution_count": 29,
     "metadata": {},
     "output_type": "execute_result"
    }
   ],
   "source": [
    "len(stopwords_list)"
   ]
  },
  {
   "cell_type": "code",
   "execution_count": 30,
   "metadata": {
    "execution": {
     "iopub.execute_input": "2021-08-15T10:08:14.878675Z",
     "iopub.status.busy": "2021-08-15T10:08:14.878195Z",
     "iopub.status.idle": "2021-08-15T10:08:25.151390Z",
     "shell.execute_reply": "2021-08-15T10:08:25.150402Z",
     "shell.execute_reply.started": "2021-08-15T10:08:14.878638Z"
    },
    "papermill": {
     "duration": 0.318314,
     "end_time": "2020-12-21T10:11:05.63917",
     "exception": false,
     "start_time": "2020-12-21T10:11:05.320856",
     "status": "completed"
    },
    "tags": []
   },
   "outputs": [],
   "source": [
    "data[\"text\"]=data[\"text\"].apply(lambda x: [item for item in x if item not in stopwords_list])"
   ]
  },
  {
   "cell_type": "code",
   "execution_count": 31,
   "metadata": {
    "execution": {
     "iopub.execute_input": "2021-08-15T10:08:25.154194Z",
     "iopub.status.busy": "2021-08-15T10:08:25.153824Z",
     "iopub.status.idle": "2021-08-15T10:08:25.163442Z",
     "shell.execute_reply": "2021-08-15T10:08:25.162430Z",
     "shell.execute_reply.started": "2021-08-15T10:08:25.154156Z"
    },
    "papermill": {
     "duration": 0.118249,
     "end_time": "2020-12-21T10:11:05.864601",
     "exception": false,
     "start_time": "2020-12-21T10:11:05.746352",
     "status": "completed"
    },
    "tags": []
   },
   "outputs": [
    {
     "data": {
      "text/plain": [
       "0                                               [year]\n",
       "1                                           [american]\n",
       "2    [washington, reuters, special, counsel, invest...\n",
       "3                                           [american]\n",
       "4                                           [american]\n",
       "Name: text, dtype: object"
      ]
     },
     "execution_count": 31,
     "metadata": {},
     "output_type": "execute_result"
    }
   ],
   "source": [
    "data[\"text\"].head()"
   ]
  },
  {
   "cell_type": "markdown",
   "metadata": {
    "papermill": {
     "duration": 0.107752,
     "end_time": "2020-12-21T10:11:06.077892",
     "exception": false,
     "start_time": "2020-12-21T10:11:05.97014",
     "status": "completed"
    },
    "tags": []
   },
   "source": [
    "# Description of text information"
   ]
  },
  {
   "cell_type": "code",
   "execution_count": 32,
   "metadata": {
    "execution": {
     "iopub.execute_input": "2021-08-15T10:08:25.869276Z",
     "iopub.status.busy": "2021-08-15T10:08:25.868935Z",
     "iopub.status.idle": "2021-08-15T10:08:26.517196Z",
     "shell.execute_reply": "2021-08-15T10:08:26.516230Z",
     "shell.execute_reply.started": "2021-08-15T10:08:25.869244Z"
    },
    "papermill": {
     "duration": 0.130515,
     "end_time": "2020-12-21T10:11:06.315908",
     "exception": false,
     "start_time": "2020-12-21T10:11:06.185393",
     "status": "completed"
    },
    "tags": []
   },
   "outputs": [
    {
     "name": "stdout",
     "output_type": "stream",
     "text": [
      "3138438 words total, with a vocabulary size of 90312\n",
      "Max sentence length is 1511\n"
     ]
    }
   ],
   "source": [
    "all_words = [word for tokens in data[\"text\"] for word in tokens]\n",
    "sentence_lengths = [len(tokens) for tokens in data[\"text\"]]\n",
    "\n",
    "VOCAB = sorted(list(set(all_words)))\n",
    "\n",
    "print(\"%s words total, with a vocabulary size of %s\" % (len(all_words), len(VOCAB)))\n",
    "print(\"Max sentence length is %s\" % max(sentence_lengths))"
   ]
  },
  {
   "cell_type": "markdown",
   "metadata": {
    "papermill": {
     "duration": 0.104728,
     "end_time": "2020-12-21T10:11:06.525772",
     "exception": false,
     "start_time": "2020-12-21T10:11:06.421044",
     "status": "completed"
    },
    "tags": []
   },
   "source": [
    "# Top 25 words in text"
   ]
  },
  {
   "cell_type": "code",
   "execution_count": 33,
   "metadata": {
    "execution": {
     "iopub.execute_input": "2021-08-15T10:08:29.014115Z",
     "iopub.status.busy": "2021-08-15T10:08:29.013776Z",
     "iopub.status.idle": "2021-08-15T10:08:29.412152Z",
     "shell.execute_reply": "2021-08-15T10:08:29.411128Z",
     "shell.execute_reply.started": "2021-08-15T10:08:29.014083Z"
    },
    "papermill": {
     "duration": 0.119161,
     "end_time": "2020-12-21T10:11:06.749583",
     "exception": false,
     "start_time": "2020-12-21T10:11:06.630422",
     "status": "completed"
    },
    "tags": []
   },
   "outputs": [],
   "source": [
    "counter = Counter(all_words)"
   ]
  },
  {
   "cell_type": "code",
   "execution_count": 34,
   "metadata": {
    "execution": {
     "iopub.execute_input": "2021-08-15T10:08:31.801085Z",
     "iopub.status.busy": "2021-08-15T10:08:31.800703Z",
     "iopub.status.idle": "2021-08-15T10:08:31.834153Z",
     "shell.execute_reply": "2021-08-15T10:08:31.833503Z",
     "shell.execute_reply.started": "2021-08-15T10:08:31.801052Z"
    },
    "papermill": {
     "duration": 0.120861,
     "end_time": "2020-12-21T10:11:06.975949",
     "exception": false,
     "start_time": "2020-12-21T10:11:06.855088",
     "status": "completed"
    },
    "tags": []
   },
   "outputs": [
    {
     "data": {
      "text/plain": [
       "[('said', 48117),\n",
       " ('trump', 38884),\n",
       " ('us', 19022),\n",
       " ('would', 16518),\n",
       " ('president', 16516),\n",
       " ('american', 16452),\n",
       " ('wil', 15049),\n",
       " ('reuters', 14006),\n",
       " ('ben', 13175),\n",
       " ('year', 11199),\n",
       " ('people', 10918),\n",
       " ('state', 10817),\n",
       " ('one', 10069),\n",
       " ('al', 9963),\n",
       " ('also', 9383),\n",
       " ('house', 9379),\n",
       " ('donald', 9334),\n",
       " ('new', 9159),\n",
       " ('government', 9116),\n",
       " ('told', 8619),\n",
       " ('clinton', 7738),\n",
       " ('could', 7220),\n",
       " ('states', 7157),\n",
       " ('campaign', 7046),\n",
       " ('republican', 7044)]"
      ]
     },
     "execution_count": 34,
     "metadata": {},
     "output_type": "execute_result"
    }
   ],
   "source": [
    "counter.most_common(25)"
   ]
  },
  {
   "cell_type": "code",
   "execution_count": 35,
   "metadata": {
    "execution": {
     "iopub.execute_input": "2021-08-15T10:08:36.599351Z",
     "iopub.status.busy": "2021-08-15T10:08:36.598686Z",
     "iopub.status.idle": "2021-08-15T10:08:37.081259Z",
     "shell.execute_reply": "2021-08-15T10:08:37.080338Z",
     "shell.execute_reply.started": "2021-08-15T10:08:36.599272Z"
    },
    "papermill": {
     "duration": 0.123782,
     "end_time": "2020-12-21T10:11:07.205151",
     "exception": false,
     "start_time": "2020-12-21T10:11:07.081369",
     "status": "completed"
    },
    "tags": []
   },
   "outputs": [],
   "source": [
    "counted_words = Counter(all_words)\n",
    "\n",
    "words = []\n",
    "counts = []\n",
    "for letter, count in counted_words.most_common(25):\n",
    "    words.append(letter)\n",
    "    counts.append(count)"
   ]
  },
  {
   "cell_type": "code",
   "execution_count": 36,
   "metadata": {
    "execution": {
     "iopub.execute_input": "2021-08-15T10:08:42.243447Z",
     "iopub.status.busy": "2021-08-15T10:08:42.243079Z",
     "iopub.status.idle": "2021-08-15T10:08:42.778182Z",
     "shell.execute_reply": "2021-08-15T10:08:42.777115Z",
     "shell.execute_reply.started": "2021-08-15T10:08:42.243412Z"
    },
    "papermill": {
     "duration": 0.516595,
     "end_time": "2020-12-21T10:11:07.828532",
     "exception": false,
     "start_time": "2020-12-21T10:11:07.311937",
     "status": "completed"
    },
    "tags": []
   },
   "outputs": [
    {
     "data": {
      "text/plain": [
       "<BarContainer object of 25 artists>"
      ]
     },
     "execution_count": 36,
     "metadata": {},
     "output_type": "execute_result"
    },
    {
     "data": {
      "image/png": "[encoded data removed]",
      "text/plain": [
       "<Figure size 1440x720 with 1 Axes>"
      ]
     },
     "metadata": {},
     "output_type": "display_data"
    }
   ],
   "source": [
    "colors = cm.rainbow(np.linspace(0, 1, 10))\n",
    "rcParams['figure.figsize'] = 20, 10\n",
    "\n",
    "plt.title('Top words in Text')\n",
    "plt.xlabel('Count')\n",
    "plt.ylabel('Words')\n",
    "plt.barh(words, counts, color=colors)"
   ]
  },
  {
   "cell_type": "markdown",
   "metadata": {
    "papermill": {
     "duration": 0.108297,
     "end_time": "2020-12-21T10:11:08.044748",
     "exception": false,
     "start_time": "2020-12-21T10:11:07.936451",
     "status": "completed"
    },
    "tags": []
   },
   "source": [
    "# Word cloud of true news"
   ]
  },
  {
   "cell_type": "code",
   "execution_count": 37,
   "metadata": {
    "execution": {
     "iopub.execute_input": "2021-08-15T10:08:48.333750Z",
     "iopub.status.busy": "2021-08-15T10:08:48.333420Z",
     "iopub.status.idle": "2021-08-15T10:08:49.312893Z",
     "shell.execute_reply": "2021-08-15T10:08:49.311969Z",
     "shell.execute_reply.started": "2021-08-15T10:08:48.333719Z"
    },
    "papermill": {
     "duration": 1.415084,
     "end_time": "2020-12-21T10:11:09.567159",
     "exception": false,
     "start_time": "2020-12-21T10:11:08.152075",
     "status": "completed"
    },
    "tags": []
   },
   "outputs": [
    {
     "data": {
      "image/png": "[encoded data removed]",
      "text/plain": [
       "<Figure size 864x720 with 1 Axes>"
      ]
     },
     "metadata": {},
     "output_type": "display_data"
    }
   ],
   "source": [
    "data1=data[data['label']=='true']\n",
    "neg =data1['text']\n",
    "neg_string = []\n",
    "for t in neg:\n",
    "    neg_string.append(t)\n",
    "neg_string = pandas.Series(neg_string).map(str)\n",
    "neg_string=str(neg_string)\n",
    "\n",
    "\n",
    "wordcloud = WordCloud(width=1600, height=800,max_font_size=200).generate(neg_string)\n",
    "plt.figure(figsize=(12,10))\n",
    "plt.imshow(wordcloud, interpolation=\"bilinear\")\n",
    "plt.axis(\"off\")\n",
    "plt.show()"
   ]
  },
  {
   "cell_type": "markdown",
   "metadata": {
    "papermill": {
     "duration": 0.113206,
     "end_time": "2020-12-21T10:11:09.793035",
     "exception": false,
     "start_time": "2020-12-21T10:11:09.679829",
     "status": "completed"
    },
    "tags": []
   },
   "source": [
    "# Word cloud of fake news"
   ]
  },
  {
   "cell_type": "code",
   "execution_count": 38,
   "metadata": {
    "execution": {
     "iopub.execute_input": "2021-08-15T10:08:54.440196Z",
     "iopub.status.busy": "2021-08-15T10:08:54.439874Z",
     "iopub.status.idle": "2021-08-15T10:08:55.403485Z",
     "shell.execute_reply": "2021-08-15T10:08:55.402738Z",
     "shell.execute_reply.started": "2021-08-15T10:08:54.440165Z"
    },
    "papermill": {
     "duration": 1.438773,
     "end_time": "2020-12-21T10:11:11.343128",
     "exception": false,
     "start_time": "2020-12-21T10:11:09.904355",
     "status": "completed"
    },
    "tags": []
   },
   "outputs": [
    {
     "data": {
      "image/png": "[encoded data removed]",
      "text/plain": [
       "<Figure size 864x720 with 1 Axes>"
      ]
     },
     "metadata": {},
     "output_type": "display_data"
    }
   ],
   "source": [
    "data1=data[data['label']=='fake']\n",
    "neg =data1['text']\n",
    "neg_string = []\n",
    "for t in neg:\n",
    "    neg_string.append(t)\n",
    "neg_string = pandas.Series(neg_string).map(str)\n",
    "neg_string=str(neg_string)\n",
    "\n",
    "\n",
    "wordcloud = WordCloud(width=1600, height=800,max_font_size=200).generate(neg_string)\n",
    "plt.figure(figsize=(12,10))\n",
    "plt.imshow(wordcloud, interpolation=\"bilinear\")\n",
    "plt.axis(\"off\")\n",
    "plt.show()"
   ]
  },
  {
   "cell_type": "markdown",
   "metadata": {
    "papermill": {
     "duration": 0.114765,
     "end_time": "2020-12-21T10:11:11.580846",
     "exception": false,
     "start_time": "2020-12-21T10:11:11.466081",
     "status": "completed"
    },
    "tags": []
   },
   "source": [
    "# Features Extraction From the texts Text"
   ]
  },
  {
   "cell_type": "markdown",
   "metadata": {
    "papermill": {
     "duration": 0.114949,
     "end_time": "2020-12-21T10:11:11.810775",
     "exception": false,
     "start_time": "2020-12-21T10:11:11.695826",
     "status": "completed"
    },
    "tags": []
   },
   "source": [
    "# - Unigram features"
   ]
  },
  {
   "cell_type": "code",
   "execution_count": 39,
   "metadata": {
    "execution": {
     "iopub.execute_input": "2021-08-15T10:09:00.490896Z",
     "iopub.status.busy": "2021-08-15T10:09:00.490558Z",
     "iopub.status.idle": "2021-08-15T10:09:00.496269Z",
     "shell.execute_reply": "2021-08-15T10:09:00.495232Z",
     "shell.execute_reply.started": "2021-08-15T10:09:00.490867Z"
    },
    "papermill": {
     "duration": 0.124123,
     "end_time": "2020-12-21T10:11:12.049877",
     "exception": false,
     "start_time": "2020-12-21T10:11:11.925754",
     "status": "completed"
    },
    "tags": []
   },
   "outputs": [],
   "source": [
    "from sklearn.feature_extraction.text import TfidfVectorizer\n",
    "\n",
    "word_vectorizer = TfidfVectorizer(\n",
    "    sublinear_tf=True,\n",
    "    strip_accents='unicode',\n",
    "    analyzer='word',\n",
    "    token_pattern=r'\\w{1,}',\n",
    "    stop_words='english',\n",
    "    ngram_range=(1, 1),\n",
    "    max_features =1000)"
   ]
  },
  {
   "cell_type": "markdown",
   "metadata": {
    "papermill": {
     "duration": 0.114301,
     "end_time": "2020-12-21T10:11:12.283418",
     "exception": false,
     "start_time": "2020-12-21T10:11:12.169117",
     "status": "completed"
    },
    "tags": []
   },
   "source": [
    "# Preparing features for training and testing"
   ]
  },
  {
   "cell_type": "code",
   "execution_count": 40,
   "metadata": {
    "execution": {
     "iopub.execute_input": "2021-08-15T10:09:02.269090Z",
     "iopub.status.busy": "2021-08-15T10:09:02.268761Z",
     "iopub.status.idle": "2021-08-15T10:09:07.791068Z",
     "shell.execute_reply": "2021-08-15T10:09:07.790356Z",
     "shell.execute_reply.started": "2021-08-15T10:09:02.269058Z"
    },
    "papermill": {
     "duration": 0.5066,
     "end_time": "2020-12-21T10:11:12.905375",
     "exception": false,
     "start_time": "2020-12-21T10:11:12.398775",
     "status": "completed"
    },
    "tags": []
   },
   "outputs": [
    {
     "data": {
      "text/html": [
       "<div>\n",
       "<style scoped>\n",
       "    .dataframe tbody tr th:only-of-type {\n",
       "        vertical-align: middle;\n",
       "    }\n",
       "\n",
       "    .dataframe tbody tr th {\n",
       "        vertical-align: top;\n",
       "    }\n",
       "\n",
       "    .dataframe thead th {\n",
       "        text-align: right;\n",
       "    }\n",
       "</style>\n",
       "<table border=\"1\" class=\"dataframe\">\n",
       "  <thead>\n",
       "    <tr style=\"text-align: right;\">\n",
       "      <th></th>\n",
       "      <th>able</th>\n",
       "      <th>absolutely</th>\n",
       "      <th>acept</th>\n",
       "      <th>aces</th>\n",
       "      <th>acording</th>\n",
       "      <th>acount</th>\n",
       "      <th>acr</th>\n",
       "      <th>acros</th>\n",
       "      <th>act</th>\n",
       "      <th>action</th>\n",
       "      <th>...</th>\n",
       "      <th>wrong</th>\n",
       "      <th>wrote</th>\n",
       "      <th>xi</th>\n",
       "      <th>year</th>\n",
       "      <th>yearold</th>\n",
       "      <th>yemen</th>\n",
       "      <th>yes</th>\n",
       "      <th>york</th>\n",
       "      <th>young</th>\n",
       "      <th>zone</th>\n",
       "    </tr>\n",
       "  </thead>\n",
       "  <tbody>\n",
       "    <tr>\n",
       "      <th>0</th>\n",
       "      <td>0.0</td>\n",
       "      <td>0.0</td>\n",
       "      <td>0.0</td>\n",
       "      <td>0.0</td>\n",
       "      <td>0.0</td>\n",
       "      <td>0.0</td>\n",
       "      <td>0.0</td>\n",
       "      <td>0.0</td>\n",
       "      <td>0.0</td>\n",
       "      <td>0.0</td>\n",
       "      <td>...</td>\n",
       "      <td>0.0</td>\n",
       "      <td>0.0</td>\n",
       "      <td>0.0</td>\n",
       "      <td>1.0</td>\n",
       "      <td>0.0</td>\n",
       "      <td>0.0</td>\n",
       "      <td>0.0</td>\n",
       "      <td>0.0</td>\n",
       "      <td>0.0</td>\n",
       "      <td>0.0</td>\n",
       "    </tr>\n",
       "    <tr>\n",
       "      <th>1</th>\n",
       "      <td>0.0</td>\n",
       "      <td>0.0</td>\n",
       "      <td>0.0</td>\n",
       "      <td>0.0</td>\n",
       "      <td>0.0</td>\n",
       "      <td>0.0</td>\n",
       "      <td>0.0</td>\n",
       "      <td>0.0</td>\n",
       "      <td>0.0</td>\n",
       "      <td>0.0</td>\n",
       "      <td>...</td>\n",
       "      <td>0.0</td>\n",
       "      <td>0.0</td>\n",
       "      <td>0.0</td>\n",
       "      <td>0.0</td>\n",
       "      <td>0.0</td>\n",
       "      <td>0.0</td>\n",
       "      <td>0.0</td>\n",
       "      <td>0.0</td>\n",
       "      <td>0.0</td>\n",
       "      <td>0.0</td>\n",
       "    </tr>\n",
       "    <tr>\n",
       "      <th>2</th>\n",
       "      <td>0.0</td>\n",
       "      <td>0.0</td>\n",
       "      <td>0.0</td>\n",
       "      <td>0.0</td>\n",
       "      <td>0.0</td>\n",
       "      <td>0.0</td>\n",
       "      <td>0.0</td>\n",
       "      <td>0.0</td>\n",
       "      <td>0.0</td>\n",
       "      <td>0.0</td>\n",
       "      <td>...</td>\n",
       "      <td>0.0</td>\n",
       "      <td>0.0</td>\n",
       "      <td>0.0</td>\n",
       "      <td>0.0</td>\n",
       "      <td>0.0</td>\n",
       "      <td>0.0</td>\n",
       "      <td>0.0</td>\n",
       "      <td>1.0</td>\n",
       "      <td>0.0</td>\n",
       "      <td>0.0</td>\n",
       "    </tr>\n",
       "    <tr>\n",
       "      <th>3</th>\n",
       "      <td>0.0</td>\n",
       "      <td>0.0</td>\n",
       "      <td>0.0</td>\n",
       "      <td>0.0</td>\n",
       "      <td>0.0</td>\n",
       "      <td>0.0</td>\n",
       "      <td>0.0</td>\n",
       "      <td>0.0</td>\n",
       "      <td>0.0</td>\n",
       "      <td>0.0</td>\n",
       "      <td>...</td>\n",
       "      <td>0.0</td>\n",
       "      <td>0.0</td>\n",
       "      <td>0.0</td>\n",
       "      <td>0.0</td>\n",
       "      <td>0.0</td>\n",
       "      <td>0.0</td>\n",
       "      <td>0.0</td>\n",
       "      <td>0.0</td>\n",
       "      <td>0.0</td>\n",
       "      <td>0.0</td>\n",
       "    </tr>\n",
       "    <tr>\n",
       "      <th>4</th>\n",
       "      <td>0.0</td>\n",
       "      <td>0.0</td>\n",
       "      <td>0.0</td>\n",
       "      <td>0.0</td>\n",
       "      <td>0.0</td>\n",
       "      <td>0.0</td>\n",
       "      <td>0.0</td>\n",
       "      <td>0.0</td>\n",
       "      <td>0.0</td>\n",
       "      <td>0.0</td>\n",
       "      <td>...</td>\n",
       "      <td>0.0</td>\n",
       "      <td>0.0</td>\n",
       "      <td>0.0</td>\n",
       "      <td>0.0</td>\n",
       "      <td>0.0</td>\n",
       "      <td>0.0</td>\n",
       "      <td>0.0</td>\n",
       "      <td>0.0</td>\n",
       "      <td>0.0</td>\n",
       "      <td>0.0</td>\n",
       "    </tr>\n",
       "  </tbody>\n",
       "</table>\n",
       "<p>5 rows × 1000 columns</p>\n",
       "</div>"
      ],
      "text/plain": [
       "   able  absolutely  acept  aces  acording  acount  acr  acros  act  action  \\\n",
       "0   0.0         0.0    0.0   0.0       0.0     0.0  0.0    0.0  0.0     0.0   \n",
       "1   0.0         0.0    0.0   0.0       0.0     0.0  0.0    0.0  0.0     0.0   \n",
       "2   0.0         0.0    0.0   0.0       0.0     0.0  0.0    0.0  0.0     0.0   \n",
       "3   0.0         0.0    0.0   0.0       0.0     0.0  0.0    0.0  0.0     0.0   \n",
       "4   0.0         0.0    0.0   0.0       0.0     0.0  0.0    0.0  0.0     0.0   \n",
       "\n",
       "   ...  wrong  wrote   xi  year  yearold  yemen  yes  york  young  zone  \n",
       "0  ...    0.0    0.0  0.0   1.0      0.0    0.0  0.0   0.0    0.0   0.0  \n",
       "1  ...    0.0    0.0  0.0   0.0      0.0    0.0  0.0   0.0    0.0   0.0  \n",
       "2  ...    0.0    0.0  0.0   0.0      0.0    0.0  0.0   1.0    0.0   0.0  \n",
       "3  ...    0.0    0.0  0.0   0.0      0.0    0.0  0.0   0.0    0.0   0.0  \n",
       "4  ...    0.0    0.0  0.0   0.0      0.0    0.0  0.0   0.0    0.0   0.0  \n",
       "\n",
       "[5 rows x 1000 columns]"
      ]
     },
     "execution_count": 40,
     "metadata": {},
     "output_type": "execute_result"
    }
   ],
   "source": [
    "unigramdataGet= word_vectorizer.fit_transform(data['text'].astype('str'))\n",
    "unigramdataGet = unigramdataGet.toarray()\n",
    "vocab = word_vectorizer.get_feature_names()\n",
    "unigramdata=pd.DataFrame(np.round(unigramdataGet, 1), columns=vocab)\n",
    "unigramdata[unigramdata>0] = 1\n",
    "unigramdata.head()"
   ]
  },
  {
   "cell_type": "markdown",
   "metadata": {
    "papermill": {
     "duration": 0.116031,
     "end_time": "2020-12-21T10:11:13.137545",
     "exception": false,
     "start_time": "2020-12-21T10:11:13.021514",
     "status": "completed"
    },
    "tags": []
   },
   "source": [
    "# First 100 words of vocab"
   ]
  },
  {
   "cell_type": "code",
   "execution_count": 41,
   "metadata": {
    "execution": {
     "iopub.execute_input": "2021-08-15T10:09:08.368319Z",
     "iopub.status.busy": "2021-08-15T10:09:08.367692Z",
     "iopub.status.idle": "2021-08-15T10:09:08.377617Z",
     "shell.execute_reply": "2021-08-15T10:09:08.376698Z",
     "shell.execute_reply.started": "2021-08-15T10:09:08.368272Z"
    },
    "papermill": {
     "duration": 0.127958,
     "end_time": "2020-12-21T10:11:13.380985",
     "exception": false,
     "start_time": "2020-12-21T10:11:13.253027",
     "status": "completed"
    },
    "tags": []
   },
   "outputs": [
    {
     "data": {
      "text/plain": [
       "['able',\n",
       " 'absolutely',\n",
       " 'acept',\n",
       " 'aces',\n",
       " 'acording',\n",
       " 'acount',\n",
       " 'acr',\n",
       " 'acros',\n",
       " 'act',\n",
       " 'action',\n",
       " 'actions',\n",
       " 'actualy',\n",
       " 'acusations',\n",
       " 'acused',\n",
       " 'ad',\n",
       " 'aded',\n",
       " 'ading',\n",
       " 'administration',\n",
       " 'adres',\n",
       " 'adviser',\n",
       " 'afairs',\n",
       " 'agencies',\n",
       " 'agency',\n",
       " 'agenda',\n",
       " 'ago',\n",
       " 'agre',\n",
       " 'agred',\n",
       " 'agrement',\n",
       " 'ahead',\n",
       " 'aid',\n",
       " 'air',\n",
       " 'al',\n",
       " 'alegations',\n",
       " 'aleged',\n",
       " 'alies',\n",
       " 'alow',\n",
       " 'alowed',\n",
       " 'aly',\n",
       " 'ambasador',\n",
       " 'american',\n",
       " 'ankara',\n",
       " 'anounced',\n",
       " 'anouncement',\n",
       " 'answer',\n",
       " 'aparently',\n",
       " 'apeared',\n",
       " 'apears',\n",
       " 'april',\n",
       " 'aproved',\n",
       " 'arab',\n",
       " 'arabia',\n",
       " 'area',\n",
       " 'areas',\n",
       " 'arest',\n",
       " 'arested',\n",
       " 'armed',\n",
       " 'army',\n",
       " 'article',\n",
       " 'asault',\n",
       " 'ask',\n",
       " 'asked',\n",
       " 'asking',\n",
       " 'atack',\n",
       " 'atacks',\n",
       " 'atempt',\n",
       " 'atorney',\n",
       " 'august',\n",
       " 'authorities',\n",
       " 'authority',\n",
       " 'avoid',\n",
       " 'away',\n",
       " 'backed',\n",
       " 'bad',\n",
       " 'balistic',\n",
       " 'ban',\n",
       " 'bangladesh',\n",
       " 'bank',\n",
       " 'barack',\n",
       " 'base',\n",
       " 'based',\n",
       " 'began',\n",
       " 'behavior',\n",
       " 'beijing',\n",
       " 'believe',\n",
       " 'believed',\n",
       " 'ben',\n",
       " 'berlin',\n",
       " 'bernie',\n",
       " 'best',\n",
       " 'beter',\n",
       " 'betwen',\n",
       " 'big',\n",
       " 'bigest',\n",
       " 'bil',\n",
       " 'bilion',\n",
       " 'black',\n",
       " 'board',\n",
       " 'body',\n",
       " 'boiler',\n",
       " 'border']"
      ]
     },
     "execution_count": 41,
     "metadata": {},
     "output_type": "execute_result"
    }
   ],
   "source": [
    "vocab[0:100]"
   ]
  },
  {
   "cell_type": "code",
   "execution_count": 42,
   "metadata": {
    "execution": {
     "iopub.execute_input": "2021-08-15T10:09:14.461609Z",
     "iopub.status.busy": "2021-08-15T10:09:14.461258Z",
     "iopub.status.idle": "2021-08-15T10:09:14.468717Z",
     "shell.execute_reply": "2021-08-15T10:09:14.467380Z",
     "shell.execute_reply.started": "2021-08-15T10:09:14.461577Z"
    },
    "papermill": {
     "duration": 0.125951,
     "end_time": "2020-12-21T10:11:13.625638",
     "exception": false,
     "start_time": "2020-12-21T10:11:13.499687",
     "status": "completed"
    },
    "tags": []
   },
   "outputs": [
    {
     "name": "stdout",
     "output_type": "stream",
     "text": [
      "Vocab Lenght  1000\n"
     ]
    }
   ],
   "source": [
    "print('Vocab Lenght ', len(vocab))"
   ]
  },
  {
   "cell_type": "code",
   "execution_count": 43,
   "metadata": {
    "execution": {
     "iopub.execute_input": "2021-08-15T10:09:17.330487Z",
     "iopub.status.busy": "2021-08-15T10:09:17.330144Z",
     "iopub.status.idle": "2021-08-15T10:09:17.335937Z",
     "shell.execute_reply": "2021-08-15T10:09:17.335015Z",
     "shell.execute_reply.started": "2021-08-15T10:09:17.330456Z"
    },
    "papermill": {
     "duration": 0.130262,
     "end_time": "2020-12-21T10:11:13.871386",
     "exception": false,
     "start_time": "2020-12-21T10:11:13.741124",
     "status": "completed"
    },
    "tags": []
   },
   "outputs": [
    {
     "data": {
      "text/plain": [
       "44898"
      ]
     },
     "execution_count": 43,
     "metadata": {},
     "output_type": "execute_result"
    }
   ],
   "source": [
    "len(unigramdata)"
   ]
  },
  {
   "cell_type": "markdown",
   "metadata": {
    "papermill": {
     "duration": 0.144891,
     "end_time": "2020-12-21T10:11:16.297388",
     "exception": false,
     "start_time": "2020-12-21T10:11:16.152497",
     "status": "completed"
    },
    "tags": []
   },
   "source": [
    "# Deleteing the text column because we have been extracted features from this"
   ]
  },
  {
   "cell_type": "code",
   "execution_count": 44,
   "metadata": {
    "execution": {
     "iopub.execute_input": "2021-08-15T10:09:19.993886Z",
     "iopub.status.busy": "2021-08-15T10:09:19.993555Z",
     "iopub.status.idle": "2021-08-15T10:09:20.002088Z",
     "shell.execute_reply": "2021-08-15T10:09:20.001125Z",
     "shell.execute_reply.started": "2021-08-15T10:09:19.993857Z"
    },
    "papermill": {
     "duration": 0.130711,
     "end_time": "2020-12-21T10:11:16.545939",
     "exception": false,
     "start_time": "2020-12-21T10:11:16.415228",
     "status": "completed"
    },
    "tags": []
   },
   "outputs": [],
   "source": [
    "data.reset_index(drop=True, inplace=True)\n",
    "data=data.drop(columns=['text'])"
   ]
  },
  {
   "cell_type": "markdown",
   "metadata": {
    "papermill": {
     "duration": 0.119188,
     "end_time": "2020-12-21T10:11:16.790174",
     "exception": false,
     "start_time": "2020-12-21T10:11:16.670986",
     "status": "completed"
    },
    "tags": []
   },
   "source": [
    "# Feature selection from the extracted features of unigram"
   ]
  },
  {
   "cell_type": "code",
   "execution_count": 45,
   "metadata": {
    "execution": {
     "iopub.execute_input": "2021-08-15T10:09:23.966400Z",
     "iopub.status.busy": "2021-08-15T10:09:23.966038Z",
     "iopub.status.idle": "2021-08-15T10:09:24.695455Z",
     "shell.execute_reply": "2021-08-15T10:09:24.694513Z",
     "shell.execute_reply.started": "2021-08-15T10:09:23.966365Z"
    },
    "papermill": {
     "duration": 0.31756,
     "end_time": "2020-12-21T10:11:17.225137",
     "exception": false,
     "start_time": "2020-12-21T10:11:16.907577",
     "status": "completed"
    },
    "tags": []
   },
   "outputs": [
    {
     "name": "stdout",
     "output_type": "stream",
     "text": [
      "(44898, 700)\n"
     ]
    }
   ],
   "source": [
    "from sklearn.feature_selection import chi2\n",
    "from sklearn.feature_selection import SelectKBest\n",
    "\n",
    "\n",
    "selector = SelectKBest(chi2, k=700)\n",
    "selector.fit(unigramdata, data['label'])\n",
    "\n",
    "unigramdata = selector.transform(unigramdata)\n",
    "print(unigramdata.shape)"
   ]
  },
  {
   "cell_type": "markdown",
   "metadata": {
    "papermill": {
     "duration": 0.11865,
     "end_time": "2020-12-21T10:11:18.566957",
     "exception": false,
     "start_time": "2020-12-21T10:11:18.448307",
     "status": "completed"
    },
    "tags": []
   },
   "source": [
    "# -----------------------Traning and Testing with Unigram Features------------------------"
   ]
  },
  {
   "cell_type": "code",
   "execution_count": 46,
   "metadata": {
    "execution": {
     "iopub.execute_input": "2021-08-15T10:09:27.576030Z",
     "iopub.status.busy": "2021-08-15T10:09:27.575689Z",
     "iopub.status.idle": "2021-08-15T10:09:27.580525Z",
     "shell.execute_reply": "2021-08-15T10:09:27.579340Z",
     "shell.execute_reply.started": "2021-08-15T10:09:27.575993Z"
    },
    "papermill": {
     "duration": 0.127594,
     "end_time": "2020-12-21T10:11:19.053898",
     "exception": false,
     "start_time": "2020-12-21T10:11:18.926304",
     "status": "completed"
    },
    "tags": []
   },
   "outputs": [],
   "source": [
    "X=unigramdata\n",
    "y=data['label']"
   ]
  },
  {
   "cell_type": "markdown",
   "metadata": {
    "papermill": {
     "duration": 0.122288,
     "end_time": "2020-12-21T10:11:21.64087",
     "exception": false,
     "start_time": "2020-12-21T10:11:21.518582",
     "status": "completed"
    },
    "tags": []
   },
   "source": [
    "# Spliting Dataset into 70% Training and 30% Testing"
   ]
  },
  {
   "cell_type": "code",
   "execution_count": 47,
   "metadata": {
    "execution": {
     "iopub.execute_input": "2021-08-15T10:09:31.030221Z",
     "iopub.status.busy": "2021-08-15T10:09:31.029878Z",
     "iopub.status.idle": "2021-08-15T10:09:31.384765Z",
     "shell.execute_reply": "2021-08-15T10:09:31.383943Z",
     "shell.execute_reply.started": "2021-08-15T10:09:31.030191Z"
    },
    "papermill": {
     "duration": 0.152334,
     "end_time": "2020-12-21T10:11:21.917524",
     "exception": false,
     "start_time": "2020-12-21T10:11:21.76519",
     "status": "completed"
    },
    "tags": []
   },
   "outputs": [],
   "source": [
    "from sklearn.model_selection import train_test_split\n",
    "X_train, X_test, y_train, y_test = train_test_split(X, y, test_size=0.30, random_state=100)"
   ]
  },
  {
   "cell_type": "markdown",
   "metadata": {
    "papermill": {
     "duration": 0.126288,
     "end_time": "2020-12-21T10:11:22.894066",
     "exception": false,
     "start_time": "2020-12-21T10:11:22.767778",
     "status": "completed"
    },
    "tags": []
   },
   "source": [
    "# SVM Support Vector Machine Algorithm"
   ]
  },
  {
   "cell_type": "code",
   "execution_count": 48,
   "metadata": {
    "execution": {
     "iopub.execute_input": "2021-08-15T10:09:33.573113Z",
     "iopub.status.busy": "2021-08-15T10:09:33.572786Z",
     "iopub.status.idle": "2021-08-15T10:09:34.231803Z",
     "shell.execute_reply": "2021-08-15T10:09:34.230568Z",
     "shell.execute_reply.started": "2021-08-15T10:09:33.573082Z"
    },
    "papermill": {
     "duration": 0.199252,
     "end_time": "2020-12-21T10:11:23.216155",
     "exception": false,
     "start_time": "2020-12-21T10:11:23.016903",
     "status": "completed"
    },
    "tags": []
   },
   "outputs": [
    {
     "data": {
      "text/plain": [
       "LinearSVC(C=1, max_iter=500)"
      ]
     },
     "execution_count": 48,
     "metadata": {},
     "output_type": "execute_result"
    }
   ],
   "source": [
    "from sklearn.svm import LinearSVC\n",
    "\n",
    "svc=LinearSVC(C=1, max_iter=500)\n",
    "svc= svc.fit(X_train , y_train)\n",
    "svc"
   ]
  },
  {
   "cell_type": "markdown",
   "metadata": {
    "papermill": {
     "duration": 0.125003,
     "end_time": "2020-12-21T10:11:23.462568",
     "exception": false,
     "start_time": "2020-12-21T10:11:23.337565",
     "status": "completed"
    },
    "tags": []
   },
   "source": [
    "# Accuracy"
   ]
  },
  {
   "cell_type": "code",
   "execution_count": 49,
   "metadata": {
    "execution": {
     "iopub.execute_input": "2021-08-15T10:09:37.265719Z",
     "iopub.status.busy": "2021-08-15T10:09:37.265377Z",
     "iopub.status.idle": "2021-08-15T10:09:37.390270Z",
     "shell.execute_reply": "2021-08-15T10:09:37.389391Z",
     "shell.execute_reply.started": "2021-08-15T10:09:37.265691Z"
    },
    "papermill": {
     "duration": 0.170469,
     "end_time": "2020-12-21T10:11:23.752916",
     "exception": false,
     "start_time": "2020-12-21T10:11:23.582447",
     "status": "completed"
    },
    "tags": []
   },
   "outputs": [
    {
     "name": "stdout",
     "output_type": "stream",
     "text": [
      "Accuracy score= 0.80\n"
     ]
    }
   ],
   "source": [
    "y_pred1 = svc.predict(X_test)\n",
    "dm=svc.score(X_test, y_test)\n",
    "print('Accuracy score= {:.2f}'.format(svc.score(X_test, y_test)))"
   ]
  },
  {
   "cell_type": "markdown",
   "metadata": {
    "papermill": {
     "duration": 0.121648,
     "end_time": "2020-12-21T10:11:23.999351",
     "exception": false,
     "start_time": "2020-12-21T10:11:23.877703",
     "status": "completed"
    },
    "tags": []
   },
   "source": [
    "# Precision, Recall, F1"
   ]
  },
  {
   "cell_type": "code",
   "execution_count": 50,
   "metadata": {
    "execution": {
     "iopub.execute_input": "2021-08-15T10:09:40.366359Z",
     "iopub.status.busy": "2021-08-15T10:09:40.365997Z",
     "iopub.status.idle": "2021-08-15T10:09:41.102149Z",
     "shell.execute_reply": "2021-08-15T10:09:41.101209Z",
     "shell.execute_reply.started": "2021-08-15T10:09:40.366313Z"
    },
    "papermill": {
     "duration": 0.313376,
     "end_time": "2020-12-21T10:11:24.432979",
     "exception": false,
     "start_time": "2020-12-21T10:11:24.119603",
     "status": "completed"
    },
    "tags": []
   },
   "outputs": [
    {
     "name": "stdout",
     "output_type": "stream",
     "text": [
      "\n",
      "\n",
      "Precision, Recall, F1\n",
      "\n",
      "\n",
      "              precision    recall  f1-score   support\n",
      "\n",
      "        fake       0.85      0.71      0.77      6414\n",
      "        true       0.77      0.88      0.82      7056\n",
      "\n",
      "    accuracy                           0.80     13470\n",
      "   macro avg       0.81      0.79      0.80     13470\n",
      "weighted avg       0.81      0.80      0.80     13470\n",
      "\n",
      "\n",
      "\n"
     ]
    }
   ],
   "source": [
    "from sklearn.metrics import classification_report, confusion_matrix\n",
    "\n",
    "\n",
    "print('\\n')\n",
    "print(\"Precision, Recall, F1\")\n",
    "print('\\n')\n",
    "CR=classification_report(y_test, y_pred1)\n",
    "print(CR)\n",
    "print('\\n')"
   ]
  },
  {
   "cell_type": "markdown",
   "metadata": {
    "papermill": {
     "duration": 0.122107,
     "end_time": "2020-12-21T10:11:24.679127",
     "exception": false,
     "start_time": "2020-12-21T10:11:24.55702",
     "status": "completed"
    },
    "tags": []
   },
   "source": [
    "# Confusion Matrix"
   ]
  },
  {
   "cell_type": "code",
   "execution_count": 51,
   "metadata": {
    "execution": {
     "iopub.execute_input": "2021-08-15T10:09:46.230774Z",
     "iopub.status.busy": "2021-08-15T10:09:46.230423Z",
     "iopub.status.idle": "2021-08-15T10:09:46.776657Z",
     "shell.execute_reply": "2021-08-15T10:09:46.775974Z",
     "shell.execute_reply.started": "2021-08-15T10:09:46.230744Z"
    },
    "papermill": {
     "duration": 0.585897,
     "end_time": "2020-12-21T10:11:25.388691",
     "exception": false,
     "start_time": "2020-12-21T10:11:24.802794",
     "status": "completed"
    },
    "tags": []
   },
   "outputs": [
    {
     "name": "stdout",
     "output_type": "stream",
     "text": [
      "\n",
      "\n",
      "confusion matrix\n",
      "\n",
      "\n",
      "[[4525 1889]\n",
      " [ 818 6238]]\n",
      "\n",
      "\n"
     ]
    },
    {
     "data": {
      "image/png": "[encoded data removed]",
      "text/plain": [
       "<Figure size 720x720 with 2 Axes>"
      ]
     },
     "metadata": {},
     "output_type": "display_data"
    }
   ],
   "source": [
    "from sklearn.metrics import classification_report, confusion_matrix\n",
    "from mlxtend.plotting import plot_confusion_matrix\n",
    "\n",
    "\n",
    "print('\\n')\n",
    "print(\"confusion matrix\")\n",
    "print('\\n')\n",
    "CR=confusion_matrix(y_test, y_pred1)\n",
    "print(CR)\n",
    "print('\\n')\n",
    "\n",
    "fig, ax = plot_confusion_matrix(conf_mat=CR,figsize=(10, 10),\n",
    "                                show_absolute=True,\n",
    "                                show_normed=True,\n",
    "                                colorbar=True)\n",
    "plt.show()"
   ]
  },
  {
   "cell_type": "markdown",
   "metadata": {
    "papermill": {
     "duration": 0.122479,
     "end_time": "2020-12-21T10:11:26.377668",
     "exception": false,
     "start_time": "2020-12-21T10:11:26.255189",
     "status": "completed"
    },
    "tags": []
   },
   "source": [
    "# Naive Bayes Algorithm"
   ]
  },
  {
   "cell_type": "code",
   "execution_count": 52,
   "metadata": {
    "execution": {
     "iopub.execute_input": "2021-08-15T10:09:50.148809Z",
     "iopub.status.busy": "2021-08-15T10:09:50.148477Z",
     "iopub.status.idle": "2021-08-15T10:09:50.512875Z",
     "shell.execute_reply": "2021-08-15T10:09:50.511960Z",
     "shell.execute_reply.started": "2021-08-15T10:09:50.148778Z"
    },
    "papermill": {
     "duration": 0.227348,
     "end_time": "2020-12-21T10:11:26.730004",
     "exception": false,
     "start_time": "2020-12-21T10:11:26.502656",
     "status": "completed"
    },
    "tags": []
   },
   "outputs": [
    {
     "data": {
      "text/plain": [
       "GaussianNB(var_smoothing=1e-08)"
      ]
     },
     "execution_count": 52,
     "metadata": {},
     "output_type": "execute_result"
    }
   ],
   "source": [
    "from sklearn.naive_bayes import GaussianNB\n",
    "from sklearn.svm import LinearSVC\n",
    "\n",
    "\n",
    "nab=GaussianNB(var_smoothing=1e-08)\n",
    "nab= nab.fit(X_train , y_train)\n",
    "nab"
   ]
  },
  {
   "cell_type": "markdown",
   "metadata": {
    "papermill": {
     "duration": 0.129425,
     "end_time": "2020-12-21T10:11:26.986373",
     "exception": false,
     "start_time": "2020-12-21T10:11:26.856948",
     "status": "completed"
    },
    "tags": []
   },
   "source": [
    "# Accuracy"
   ]
  },
  {
   "cell_type": "code",
   "execution_count": 53,
   "metadata": {
    "execution": {
     "iopub.execute_input": "2021-08-15T10:09:52.525737Z",
     "iopub.status.busy": "2021-08-15T10:09:52.525404Z",
     "iopub.status.idle": "2021-08-15T10:09:53.014276Z",
     "shell.execute_reply": "2021-08-15T10:09:53.013359Z",
     "shell.execute_reply.started": "2021-08-15T10:09:52.525707Z"
    },
    "papermill": {
     "duration": 0.269368,
     "end_time": "2020-12-21T10:11:27.381801",
     "exception": false,
     "start_time": "2020-12-21T10:11:27.112433",
     "status": "completed"
    },
    "tags": []
   },
   "outputs": [
    {
     "name": "stdout",
     "output_type": "stream",
     "text": [
      "Accuracy score= 0.73\n"
     ]
    }
   ],
   "source": [
    "y_pred1 = nab.predict(X_test)\n",
    "nb=nab.score(X_test, y_test)\n",
    "print('Accuracy score= {:.2f}'.format(nab.score(X_test, y_test)))"
   ]
  },
  {
   "cell_type": "markdown",
   "metadata": {
    "papermill": {
     "duration": 0.125344,
     "end_time": "2020-12-21T10:11:27.632194",
     "exception": false,
     "start_time": "2020-12-21T10:11:27.50685",
     "status": "completed"
    },
    "tags": []
   },
   "source": [
    "# Precision, Recall, F1"
   ]
  },
  {
   "cell_type": "code",
   "execution_count": 54,
   "metadata": {
    "execution": {
     "iopub.execute_input": "2021-08-15T10:09:55.572381Z",
     "iopub.status.busy": "2021-08-15T10:09:55.572025Z",
     "iopub.status.idle": "2021-08-15T10:09:56.133801Z",
     "shell.execute_reply": "2021-08-15T10:09:56.132926Z",
     "shell.execute_reply.started": "2021-08-15T10:09:55.572346Z"
    },
    "papermill": {
     "duration": 0.283416,
     "end_time": "2020-12-21T10:11:28.040387",
     "exception": false,
     "start_time": "2020-12-21T10:11:27.756971",
     "status": "completed"
    },
    "tags": []
   },
   "outputs": [
    {
     "name": "stdout",
     "output_type": "stream",
     "text": [
      "\n",
      "\n",
      "Precision, Recall, F1\n",
      "\n",
      "\n",
      "              precision    recall  f1-score   support\n",
      "\n",
      "        fake       0.85      0.53      0.65      6414\n",
      "        true       0.68      0.92      0.78      7056\n",
      "\n",
      "    accuracy                           0.73     13470\n",
      "   macro avg       0.77      0.72      0.72     13470\n",
      "weighted avg       0.76      0.73      0.72     13470\n",
      "\n",
      "\n",
      "\n"
     ]
    }
   ],
   "source": [
    "from sklearn.metrics import classification_report, confusion_matrix\n",
    "\n",
    "\n",
    "print('\\n')\n",
    "print(\"Precision, Recall, F1\")\n",
    "print('\\n')\n",
    "CR=classification_report(y_test, y_pred1)\n",
    "print(CR)\n",
    "print('\\n')"
   ]
  },
  {
   "cell_type": "markdown",
   "metadata": {
    "papermill": {
     "duration": 0.127256,
     "end_time": "2020-12-21T10:11:28.297659",
     "exception": false,
     "start_time": "2020-12-21T10:11:28.170403",
     "status": "completed"
    },
    "tags": []
   },
   "source": [
    "# Confusion Matrix"
   ]
  },
  {
   "cell_type": "code",
   "execution_count": 55,
   "metadata": {
    "execution": {
     "iopub.execute_input": "2021-08-15T10:09:58.849158Z",
     "iopub.status.busy": "2021-08-15T10:09:58.848827Z",
     "iopub.status.idle": "2021-08-15T10:09:59.129826Z",
     "shell.execute_reply": "2021-08-15T10:09:59.129103Z",
     "shell.execute_reply.started": "2021-08-15T10:09:58.849127Z"
    },
    "papermill": {
     "duration": 0.385083,
     "end_time": "2020-12-21T10:11:28.807579",
     "exception": false,
     "start_time": "2020-12-21T10:11:28.422496",
     "status": "completed"
    },
    "tags": []
   },
   "outputs": [
    {
     "name": "stdout",
     "output_type": "stream",
     "text": [
      "\n",
      "\n",
      "confusion matrix\n",
      "\n",
      "\n",
      "[[3376 3038]\n",
      " [ 578 6478]]\n",
      "\n",
      "\n"
     ]
    },
    {
     "data": {
      "image/png": "[encoded data removed]",
      "text/plain": [
       "<Figure size 720x720 with 2 Axes>"
      ]
     },
     "metadata": {},
     "output_type": "display_data"
    }
   ],
   "source": [
    "from sklearn.metrics import classification_report, confusion_matrix\n",
    "from mlxtend.plotting import plot_confusion_matrix\n",
    "\n",
    "\n",
    "print('\\n')\n",
    "print(\"confusion matrix\")\n",
    "print('\\n')\n",
    "CR=confusion_matrix(y_test, y_pred1)\n",
    "print(CR)\n",
    "print('\\n')\n",
    "\n",
    "fig, ax = plot_confusion_matrix(conf_mat=CR,figsize=(10, 10),\n",
    "                                show_absolute=True,\n",
    "                                show_normed=True,\n",
    "                                colorbar=True)\n",
    "plt.show()"
   ]
  },
  {
   "cell_type": "markdown",
   "metadata": {
    "papermill": {
     "duration": 0.130424,
     "end_time": "2020-12-21T10:11:29.569588",
     "exception": false,
     "start_time": "2020-12-21T10:11:29.439164",
     "status": "completed"
    },
    "tags": []
   },
   "source": [
    "# -------------------------------------------------------------------------------------------------------------"
   ]
  },
  {
   "cell_type": "markdown",
   "metadata": {
    "papermill": {
     "duration": 0.126404,
     "end_time": "2020-12-21T10:11:29.822822",
     "exception": false,
     "start_time": "2020-12-21T10:11:29.696418",
     "status": "completed"
    },
    "tags": []
   },
   "source": [
    "# Logistic Regression Algorithm"
   ]
  },
  {
   "cell_type": "code",
   "execution_count": 56,
   "metadata": {
    "execution": {
     "iopub.execute_input": "2021-08-15T10:10:02.842690Z",
     "iopub.status.busy": "2021-08-15T10:10:02.842319Z",
     "iopub.status.idle": "2021-08-15T10:10:06.099053Z",
     "shell.execute_reply": "2021-08-15T10:10:06.097996Z",
     "shell.execute_reply.started": "2021-08-15T10:10:02.842660Z"
    },
    "papermill": {
     "duration": 0.43184,
     "end_time": "2020-12-21T10:11:30.38318",
     "exception": false,
     "start_time": "2020-12-21T10:11:29.95134",
     "status": "completed"
    },
    "tags": []
   },
   "outputs": [
    {
     "data": {
      "text/plain": [
       "LogisticRegression(C=2)"
      ]
     },
     "execution_count": 56,
     "metadata": {},
     "output_type": "execute_result"
    }
   ],
   "source": [
    "from sklearn.linear_model import LogisticRegression\n",
    "from sklearn.naive_bayes import GaussianNB\n",
    "from sklearn.svm import LinearSVC\n",
    "\n",
    "\n",
    "lor=LogisticRegression(C=2, max_iter=100)\n",
    "lor= lor.fit(X_train , y_train)\n",
    "lor"
   ]
  },
  {
   "cell_type": "markdown",
   "metadata": {
    "papermill": {
     "duration": 0.125603,
     "end_time": "2020-12-21T10:11:30.636768",
     "exception": false,
     "start_time": "2020-12-21T10:11:30.511165",
     "status": "completed"
    },
    "tags": []
   },
   "source": [
    "# Accuracy"
   ]
  },
  {
   "cell_type": "code",
   "execution_count": 57,
   "metadata": {
    "execution": {
     "iopub.execute_input": "2021-08-15T10:10:09.624524Z",
     "iopub.status.busy": "2021-08-15T10:10:09.624172Z",
     "iopub.status.idle": "2021-08-15T10:10:09.746948Z",
     "shell.execute_reply": "2021-08-15T10:10:09.746062Z",
     "shell.execute_reply.started": "2021-08-15T10:10:09.624495Z"
    },
    "papermill": {
     "duration": 0.166651,
     "end_time": "2020-12-21T10:11:30.928373",
     "exception": false,
     "start_time": "2020-12-21T10:11:30.761722",
     "status": "completed"
    },
    "tags": []
   },
   "outputs": [
    {
     "name": "stdout",
     "output_type": "stream",
     "text": [
      "Accuracy score= 0.80\n"
     ]
    }
   ],
   "source": [
    "y_pred1 = lor.predict(X_test)\n",
    "lr=lor.score(X_test, y_test)\n",
    "print('Accuracy score= {:.2f}'.format(lor.score(X_test, y_test)))"
   ]
  },
  {
   "cell_type": "markdown",
   "metadata": {
    "papermill": {
     "duration": 0.126867,
     "end_time": "2020-12-21T10:11:31.184948",
     "exception": false,
     "start_time": "2020-12-21T10:11:31.058081",
     "status": "completed"
    },
    "tags": []
   },
   "source": [
    "# Precision, Recall, F1"
   ]
  },
  {
   "cell_type": "code",
   "execution_count": 58,
   "metadata": {
    "execution": {
     "iopub.execute_input": "2021-08-15T10:10:11.808832Z",
     "iopub.status.busy": "2021-08-15T10:10:11.808502Z",
     "iopub.status.idle": "2021-08-15T10:10:12.535420Z",
     "shell.execute_reply": "2021-08-15T10:10:12.534529Z",
     "shell.execute_reply.started": "2021-08-15T10:10:11.808801Z"
    },
    "papermill": {
     "duration": 0.323933,
     "end_time": "2020-12-21T10:11:31.63464",
     "exception": false,
     "start_time": "2020-12-21T10:11:31.310707",
     "status": "completed"
    },
    "tags": []
   },
   "outputs": [
    {
     "name": "stdout",
     "output_type": "stream",
     "text": [
      "\n",
      "\n",
      "Precision, Recall, F1\n",
      "\n",
      "\n",
      "              precision    recall  f1-score   support\n",
      "\n",
      "        fake       0.85      0.71      0.77      6414\n",
      "        true       0.77      0.88      0.82      7056\n",
      "\n",
      "    accuracy                           0.80     13470\n",
      "   macro avg       0.81      0.80      0.80     13470\n",
      "weighted avg       0.81      0.80      0.80     13470\n",
      "\n",
      "\n",
      "\n"
     ]
    }
   ],
   "source": [
    "from sklearn.metrics import classification_report, confusion_matrix\n",
    "\n",
    "\n",
    "print('\\n')\n",
    "print(\"Precision, Recall, F1\")\n",
    "print('\\n')\n",
    "CR=classification_report(y_test, y_pred1)\n",
    "print(CR)\n",
    "print('\\n')"
   ]
  },
  {
   "cell_type": "markdown",
   "metadata": {
    "papermill": {
     "duration": 0.129056,
     "end_time": "2020-12-21T10:11:31.891997",
     "exception": false,
     "start_time": "2020-12-21T10:11:31.762941",
     "status": "completed"
    },
    "tags": []
   },
   "source": [
    "# Confusion Matrix"
   ]
  },
  {
   "cell_type": "code",
   "execution_count": 59,
   "metadata": {
    "execution": {
     "iopub.execute_input": "2021-08-15T10:10:14.919785Z",
     "iopub.status.busy": "2021-08-15T10:10:14.919455Z",
     "iopub.status.idle": "2021-08-15T10:10:15.192215Z",
     "shell.execute_reply": "2021-08-15T10:10:15.191354Z",
     "shell.execute_reply.started": "2021-08-15T10:10:14.919757Z"
    },
    "papermill": {
     "duration": 0.380783,
     "end_time": "2020-12-21T10:11:32.399644",
     "exception": false,
     "start_time": "2020-12-21T10:11:32.018861",
     "status": "completed"
    },
    "tags": []
   },
   "outputs": [
    {
     "name": "stdout",
     "output_type": "stream",
     "text": [
      "\n",
      "\n",
      "confusion matrix\n",
      "\n",
      "\n",
      "[[4533 1881]\n",
      " [ 816 6240]]\n",
      "\n",
      "\n"
     ]
    },
    {
     "data": {
      "image/png": "[encoded data removed]",
      "text/plain": [
       "<Figure size 720x720 with 2 Axes>"
      ]
     },
     "metadata": {},
     "output_type": "display_data"
    }
   ],
   "source": [
    "from sklearn.metrics import classification_report, confusion_matrix\n",
    "from mlxtend.plotting import plot_confusion_matrix\n",
    "\n",
    "\n",
    "print('\\n')\n",
    "print(\"confusion matrix\")\n",
    "print('\\n')\n",
    "CR=confusion_matrix(y_test, y_pred1)\n",
    "print(CR)\n",
    "print('\\n')\n",
    "\n",
    "fig, ax = plot_confusion_matrix(conf_mat=CR,figsize=(10, 10),\n",
    "                                show_absolute=True,\n",
    "                                show_normed=True,\n",
    "                                colorbar=True)\n",
    "plt.show()"
   ]
  },
  {
   "cell_type": "markdown",
   "metadata": {
    "papermill": {
     "duration": 0.128858,
     "end_time": "2020-12-21T10:11:33.172696",
     "exception": false,
     "start_time": "2020-12-21T10:11:33.043838",
     "status": "completed"
    },
    "tags": []
   },
   "source": [
    "# -------------------------------------------------------------------------------------------------------------"
   ]
  },
  {
   "cell_type": "markdown",
   "metadata": {
    "papermill": {
     "duration": 0.12791,
     "end_time": "2020-12-21T10:11:33.42792",
     "exception": false,
     "start_time": "2020-12-21T10:11:33.30001",
     "status": "completed"
    },
    "tags": []
   },
   "source": [
    "# Random Forest Algorithm"
   ]
  },
  {
   "cell_type": "code",
   "execution_count": 60,
   "metadata": {
    "execution": {
     "iopub.execute_input": "2021-08-15T10:10:19.664562Z",
     "iopub.status.busy": "2021-08-15T10:10:19.664209Z",
     "iopub.status.idle": "2021-08-15T10:10:29.518303Z",
     "shell.execute_reply": "2021-08-15T10:10:29.517215Z",
     "shell.execute_reply.started": "2021-08-15T10:10:19.664524Z"
    },
    "papermill": {
     "duration": 2.220128,
     "end_time": "2020-12-21T10:11:35.775364",
     "exception": false,
     "start_time": "2020-12-21T10:11:33.555236",
     "status": "completed"
    },
    "tags": []
   },
   "outputs": [
    {
     "data": {
      "text/plain": [
       "RandomForestClassifier(min_samples_leaf=20, min_samples_split=20,\n",
       "                       random_state=100)"
      ]
     },
     "execution_count": 60,
     "metadata": {},
     "output_type": "execute_result"
    }
   ],
   "source": [
    "from sklearn.ensemble import RandomForestClassifier\n",
    "from sklearn.linear_model import LogisticRegression\n",
    "from sklearn.naive_bayes import GaussianNB\n",
    "from sklearn.svm import LinearSVC\n",
    "\n",
    "raf=RandomForestClassifier(min_samples_leaf=20, min_samples_split=20,random_state=100)\n",
    "raf= raf.fit(X_train , y_train)\n",
    "raf"
   ]
  },
  {
   "cell_type": "markdown",
   "metadata": {
    "papermill": {
     "duration": 0.129194,
     "end_time": "2020-12-21T10:11:36.032682",
     "exception": false,
     "start_time": "2020-12-21T10:11:35.903488",
     "status": "completed"
    },
    "tags": []
   },
   "source": [
    "# Accuracy"
   ]
  },
  {
   "cell_type": "code",
   "execution_count": 61,
   "metadata": {
    "execution": {
     "iopub.execute_input": "2021-08-15T10:10:32.565295Z",
     "iopub.status.busy": "2021-08-15T10:10:32.564967Z",
     "iopub.status.idle": "2021-08-15T10:10:33.376798Z",
     "shell.execute_reply": "2021-08-15T10:10:33.375912Z",
     "shell.execute_reply.started": "2021-08-15T10:10:32.565264Z"
    },
    "papermill": {
     "duration": 0.340296,
     "end_time": "2020-12-21T10:11:36.504892",
     "exception": false,
     "start_time": "2020-12-21T10:11:36.164596",
     "status": "completed"
    },
    "tags": []
   },
   "outputs": [
    {
     "name": "stdout",
     "output_type": "stream",
     "text": [
      "Accuracy score= 0.79\n"
     ]
    }
   ],
   "source": [
    "y_pred1 = raf.predict(X_test)\n",
    "rf=raf.score(X_test, y_test)\n",
    "print('Accuracy score= {:.2f}'.format(raf.score(X_test, y_test)))"
   ]
  },
  {
   "cell_type": "markdown",
   "metadata": {
    "papermill": {
     "duration": 0.12951,
     "end_time": "2020-12-21T10:11:36.764079",
     "exception": false,
     "start_time": "2020-12-21T10:11:36.634569",
     "status": "completed"
    },
    "tags": []
   },
   "source": [
    "# Precision, Recall, F1"
   ]
  },
  {
   "cell_type": "code",
   "execution_count": 62,
   "metadata": {
    "execution": {
     "iopub.execute_input": "2021-08-15T10:10:35.497679Z",
     "iopub.status.busy": "2021-08-15T10:10:35.497315Z",
     "iopub.status.idle": "2021-08-15T10:10:36.232614Z",
     "shell.execute_reply": "2021-08-15T10:10:36.231909Z",
     "shell.execute_reply.started": "2021-08-15T10:10:35.497647Z"
    },
    "papermill": {
     "duration": 0.328352,
     "end_time": "2020-12-21T10:11:37.221004",
     "exception": false,
     "start_time": "2020-12-21T10:11:36.892652",
     "status": "completed"
    },
    "tags": []
   },
   "outputs": [
    {
     "name": "stdout",
     "output_type": "stream",
     "text": [
      "\n",
      "\n",
      "Precision, Recall, F1\n",
      "\n",
      "\n",
      "              precision    recall  f1-score   support\n",
      "\n",
      "        fake       0.84      0.69      0.76      6414\n",
      "        true       0.76      0.88      0.82      7056\n",
      "\n",
      "    accuracy                           0.79     13470\n",
      "   macro avg       0.80      0.79      0.79     13470\n",
      "weighted avg       0.80      0.79      0.79     13470\n",
      "\n",
      "\n",
      "\n"
     ]
    }
   ],
   "source": [
    "from sklearn.metrics import classification_report, confusion_matrix\n",
    "\n",
    "\n",
    "print('\\n')\n",
    "print(\"Precision, Recall, F1\")\n",
    "print('\\n')\n",
    "CR=classification_report(y_test, y_pred1)\n",
    "print(CR)\n",
    "print('\\n')"
   ]
  },
  {
   "cell_type": "markdown",
   "metadata": {
    "papermill": {
     "duration": 0.129009,
     "end_time": "2020-12-21T10:11:37.478556",
     "exception": false,
     "start_time": "2020-12-21T10:11:37.349547",
     "status": "completed"
    },
    "tags": []
   },
   "source": [
    "# Confusion Matrix"
   ]
  },
  {
   "cell_type": "code",
   "execution_count": 63,
   "metadata": {
    "execution": {
     "iopub.execute_input": "2021-08-15T10:10:38.856725Z",
     "iopub.status.busy": "2021-08-15T10:10:38.856390Z",
     "iopub.status.idle": "2021-08-15T10:10:39.134109Z",
     "shell.execute_reply": "2021-08-15T10:10:39.133223Z",
     "shell.execute_reply.started": "2021-08-15T10:10:38.856695Z"
    },
    "papermill": {
     "duration": 0.410016,
     "end_time": "2020-12-21T10:11:38.019431",
     "exception": false,
     "start_time": "2020-12-21T10:11:37.609415",
     "status": "completed"
    },
    "tags": []
   },
   "outputs": [
    {
     "name": "stdout",
     "output_type": "stream",
     "text": [
      "\n",
      "\n",
      "confusion matrix\n",
      "\n",
      "\n",
      "[[4440 1974]\n",
      " [ 828 6228]]\n",
      "\n",
      "\n"
     ]
    },
    {
     "data": {
      "image/png": "[encoded data removed]",
      "text/plain": [
       "<Figure size 720x720 with 2 Axes>"
      ]
     },
     "metadata": {},
     "output_type": "display_data"
    }
   ],
   "source": [
    "from sklearn.metrics import classification_report, confusion_matrix\n",
    "from mlxtend.plotting import plot_confusion_matrix\n",
    "\n",
    "\n",
    "print('\\n')\n",
    "print(\"confusion matrix\")\n",
    "print('\\n')\n",
    "CR=confusion_matrix(y_test, y_pred1)\n",
    "print(CR)\n",
    "print('\\n')\n",
    "\n",
    "fig, ax = plot_confusion_matrix(conf_mat=CR,figsize=(10, 10),\n",
    "                                show_absolute=True,\n",
    "                                show_normed=True,\n",
    "                                colorbar=True)\n",
    "plt.show()"
   ]
  },
  {
   "cell_type": "markdown",
   "metadata": {
    "papermill": {
     "duration": 0.130898,
     "end_time": "2020-12-21T10:11:38.856475",
     "exception": false,
     "start_time": "2020-12-21T10:11:38.725577",
     "status": "completed"
    },
    "tags": []
   },
   "source": [
    "# -------------------------------------------------------------------------------------------------------------"
   ]
  },
  {
   "cell_type": "markdown",
   "metadata": {
    "_cell_guid": "47f0fdc5-2871-494f-9158-1a88c449a7d6",
    "_uuid": "609d7ed4c45f18359ad51745f03b2a686175b7ad",
    "id": "fT9MAv0Dww7f",
    "papermill": {
     "duration": 0.132694,
     "end_time": "2020-12-21T10:11:39.120519",
     "exception": false,
     "start_time": "2020-12-21T10:11:38.987825",
     "status": "completed"
    },
    "tags": []
   },
   "source": [
    "# Ensemble Technique to combine all algorithms and making one"
   ]
  },
  {
   "cell_type": "code",
   "execution_count": 64,
   "metadata": {
    "_cell_guid": "532dcc6f-33a1-4726-a07a-e4bb2ef0b396",
    "_kg_hide-input": true,
    "_uuid": "40c82b43dd34bb9b7685c76bea0f5ca7e761c1d4",
    "execution": {
     "iopub.execute_input": "2021-08-15T10:10:43.018415Z",
     "iopub.status.busy": "2021-08-15T10:10:43.018002Z",
     "iopub.status.idle": "2021-08-15T10:10:43.026320Z",
     "shell.execute_reply": "2021-08-15T10:10:43.025356Z",
     "shell.execute_reply.started": "2021-08-15T10:10:43.018380Z"
    },
    "id": "0lcJ9UZSww7f",
    "papermill": {
     "duration": 0.141981,
     "end_time": "2020-12-21T10:11:39.405744",
     "exception": false,
     "start_time": "2020-12-21T10:11:39.263763",
     "status": "completed"
    },
    "tags": []
   },
   "outputs": [],
   "source": [
    "svc = LinearSVC(C=1, max_iter=500)\n",
    "nab  = GaussianNB(var_smoothing=1e-08)\n",
    "log  = LogisticRegression(C=2, max_iter=100)\n",
    "raf  = RandomForestClassifier(min_samples_leaf=10, min_samples_split=20,random_state=100)"
   ]
  },
  {
   "cell_type": "code",
   "execution_count": 65,
   "metadata": {
    "execution": {
     "iopub.execute_input": "2021-08-15T10:10:46.237356Z",
     "iopub.status.busy": "2021-08-15T10:10:46.236969Z",
     "iopub.status.idle": "2021-08-15T10:11:00.445678Z",
     "shell.execute_reply": "2021-08-15T10:11:00.444383Z",
     "shell.execute_reply.started": "2021-08-15T10:10:46.237305Z"
    },
    "papermill": {
     "duration": 3.47103,
     "end_time": "2020-12-21T10:11:43.007085",
     "exception": false,
     "start_time": "2020-12-21T10:11:39.536055",
     "status": "completed"
    },
    "tags": []
   },
   "outputs": [
    {
     "data": {
      "text/plain": [
       "VotingClassifier(estimators=[('SVM', LinearSVC(C=1, max_iter=500)),\n",
       "                             ('NB', GaussianNB(var_smoothing=1e-08)),\n",
       "                             ('Log', LogisticRegression(C=2)),\n",
       "                             ('raf',\n",
       "                              RandomForestClassifier(min_samples_leaf=10,\n",
       "                                                     min_samples_split=20,\n",
       "                                                     random_state=100))])"
      ]
     },
     "execution_count": 65,
     "metadata": {},
     "output_type": "execute_result"
    }
   ],
   "source": [
    "from sklearn.ensemble import VotingClassifier\n",
    "Ens = VotingClassifier( estimators= [('SVM',svc),('NB',nab),('Log',log),('raf',raf)], voting = 'hard')\n",
    "Ens= Ens.fit(X_train , y_train)\n",
    "Ens"
   ]
  },
  {
   "cell_type": "markdown",
   "metadata": {
    "papermill": {
     "duration": 0.128452,
     "end_time": "2020-12-21T10:11:43.26488",
     "exception": false,
     "start_time": "2020-12-21T10:11:43.136428",
     "status": "completed"
    },
    "tags": []
   },
   "source": [
    "# Accuracy"
   ]
  },
  {
   "cell_type": "code",
   "execution_count": 66,
   "metadata": {
    "execution": {
     "iopub.execute_input": "2021-08-15T10:11:00.448183Z",
     "iopub.status.busy": "2021-08-15T10:11:00.447635Z",
     "iopub.status.idle": "2021-08-15T10:11:02.102062Z",
     "shell.execute_reply": "2021-08-15T10:11:02.101133Z",
     "shell.execute_reply.started": "2021-08-15T10:11:00.448145Z"
    },
    "papermill": {
     "duration": 0.559951,
     "end_time": "2020-12-21T10:11:43.954599",
     "exception": false,
     "start_time": "2020-12-21T10:11:43.394648",
     "status": "completed"
    },
    "tags": []
   },
   "outputs": [
    {
     "name": "stdout",
     "output_type": "stream",
     "text": [
      "Accuracy score= 0.80\n"
     ]
    }
   ],
   "source": [
    "y_pred1 = Ens.predict(X_test)\n",
    "en=Ens.score(X_test, y_test)\n",
    "print('Accuracy score= {:.2f}'.format(Ens.score(X_test, y_test)))"
   ]
  },
  {
   "cell_type": "markdown",
   "metadata": {
    "papermill": {
     "duration": 0.130861,
     "end_time": "2020-12-21T10:11:44.216721",
     "exception": false,
     "start_time": "2020-12-21T10:11:44.08586",
     "status": "completed"
    },
    "tags": []
   },
   "source": [
    "# Precision, Recall, F1"
   ]
  },
  {
   "cell_type": "code",
   "execution_count": 67,
   "metadata": {
    "execution": {
     "iopub.execute_input": "2021-08-15T10:11:04.380242Z",
     "iopub.status.busy": "2021-08-15T10:11:04.379910Z",
     "iopub.status.idle": "2021-08-15T10:11:05.106383Z",
     "shell.execute_reply": "2021-08-15T10:11:05.105446Z",
     "shell.execute_reply.started": "2021-08-15T10:11:04.380211Z"
    },
    "papermill": {
     "duration": 0.32651,
     "end_time": "2020-12-21T10:11:44.673058",
     "exception": false,
     "start_time": "2020-12-21T10:11:44.346548",
     "status": "completed"
    },
    "tags": []
   },
   "outputs": [
    {
     "name": "stdout",
     "output_type": "stream",
     "text": [
      "\n",
      "\n",
      "Precision, Recall, F1\n",
      "\n",
      "\n",
      "              precision    recall  f1-score   support\n",
      "\n",
      "        fake       0.84      0.71      0.77      6414\n",
      "        true       0.77      0.87      0.82      7056\n",
      "\n",
      "    accuracy                           0.80     13470\n",
      "   macro avg       0.80      0.79      0.79     13470\n",
      "weighted avg       0.80      0.80      0.80     13470\n",
      "\n",
      "\n",
      "\n"
     ]
    }
   ],
   "source": [
    "from sklearn.metrics import classification_report, confusion_matrix\n",
    "\n",
    "\n",
    "print('\\n')\n",
    "print(\"Precision, Recall, F1\")\n",
    "print('\\n')\n",
    "CR=classification_report(y_test, y_pred1)\n",
    "print(CR)\n",
    "print('\\n')"
   ]
  },
  {
   "cell_type": "markdown",
   "metadata": {
    "papermill": {
     "duration": 0.170212,
     "end_time": "2020-12-21T10:11:44.975106",
     "exception": false,
     "start_time": "2020-12-21T10:11:44.804894",
     "status": "completed"
    },
    "tags": []
   },
   "source": [
    "# Confusion Matrix"
   ]
  },
  {
   "cell_type": "code",
   "execution_count": 68,
   "metadata": {
    "execution": {
     "iopub.execute_input": "2021-08-15T10:11:07.824645Z",
     "iopub.status.busy": "2021-08-15T10:11:07.824093Z",
     "iopub.status.idle": "2021-08-15T10:11:08.121079Z",
     "shell.execute_reply": "2021-08-15T10:11:08.120371Z",
     "shell.execute_reply.started": "2021-08-15T10:11:07.824592Z"
    },
    "papermill": {
     "duration": 0.390591,
     "end_time": "2020-12-21T10:11:45.495719",
     "exception": false,
     "start_time": "2020-12-21T10:11:45.105128",
     "status": "completed"
    },
    "tags": []
   },
   "outputs": [
    {
     "name": "stdout",
     "output_type": "stream",
     "text": [
      "\n",
      "\n",
      "confusion matrix\n",
      "\n",
      "\n",
      "[[4582 1832]\n",
      " [ 899 6157]]\n",
      "\n",
      "\n"
     ]
    },
    {
     "data": {
      "image/png": "[encoded data removed]",
      "text/plain": [
       "<Figure size 720x720 with 2 Axes>"
      ]
     },
     "metadata": {},
     "output_type": "display_data"
    }
   ],
   "source": [
    "from sklearn.metrics import classification_report, confusion_matrix\n",
    "from mlxtend.plotting import plot_confusion_matrix\n",
    "\n",
    "\n",
    "print('\\n')\n",
    "print(\"confusion matrix\")\n",
    "print('\\n')\n",
    "CR=confusion_matrix(y_test, y_pred1)\n",
    "print(CR)\n",
    "print('\\n')\n",
    "\n",
    "fig, ax = plot_confusion_matrix(conf_mat=CR,figsize=(10, 10),\n",
    "                                show_absolute=True,\n",
    "                                show_normed=True,\n",
    "                                colorbar=True)\n",
    "plt.show()"
   ]
  },
  {
   "cell_type": "markdown",
   "metadata": {
    "papermill": {
     "duration": 0.131038,
     "end_time": "2020-12-21T10:11:46.288519",
     "exception": false,
     "start_time": "2020-12-21T10:11:46.157481",
     "status": "completed"
    },
    "tags": []
   },
   "source": [
    "# -------------------------------------------------------------------------------------------------------------"
   ]
  },
  {
   "cell_type": "markdown",
   "metadata": {
    "papermill": {
     "duration": 0.130116,
     "end_time": "2020-12-21T10:11:46.548675",
     "exception": false,
     "start_time": "2020-12-21T10:11:46.418559",
     "status": "completed"
    },
    "tags": []
   },
   "source": [
    "# Comparison of all algorithms Results"
   ]
  },
  {
   "cell_type": "code",
   "execution_count": 69,
   "metadata": {
    "execution": {
     "iopub.execute_input": "2021-08-15T10:11:20.778274Z",
     "iopub.status.busy": "2021-08-15T10:11:20.777934Z",
     "iopub.status.idle": "2021-08-15T10:11:20.790300Z",
     "shell.execute_reply": "2021-08-15T10:11:20.789226Z",
     "shell.execute_reply.started": "2021-08-15T10:11:20.778242Z"
    },
    "papermill": {
     "duration": 0.145785,
     "end_time": "2020-12-21T10:11:46.825091",
     "exception": false,
     "start_time": "2020-12-21T10:11:46.679306",
     "status": "completed"
    },
    "scrolled": true,
    "tags": []
   },
   "outputs": [
    {
     "name": "stdout",
     "output_type": "stream",
     "text": [
      "\n",
      "\n",
      "Comparison of all algorithm results\n",
      "+------------------------------+----------+\n",
      "|            Model             | Accuracy |\n",
      "+------------------------------+----------+\n",
      "|        SVM Algorithm         |   0.8    |\n",
      "|    Naive Bayes Algorithm     |   0.73   |\n",
      "| LogisticRegression Algorithm |   0.8    |\n",
      "|   Random Forest Algorithm    |   0.79   |\n",
      "|      Ensemble Modelling      |   0.8    |\n",
      "+------------------------------+----------+\n",
      "\n",
      "\n"
     ]
    }
   ],
   "source": [
    "from prettytable import PrettyTable\n",
    "x = PrettyTable()\n",
    "print('\\n')\n",
    "print(\"Comparison of all algorithm results\")\n",
    "x.field_names = [\"Model\", \"Accuracy\"]\n",
    "\n",
    "\n",
    "x.add_row([\"SVM Algorithm\", round(dm,2)])\n",
    "x.add_row([\"Naive Bayes Algorithm\", round(nb,2)])\n",
    "x.add_row([\"LogisticRegression Algorithm\", round(lr,2)])\n",
    "x.add_row([\"Random Forest Algorithm\", round(rf,2)])\n",
    "x.add_row([\"Ensemble Modelling\", round(en,2)])\n",
    "\n",
    "print(x)\n",
    "print('\\n')"
   ]
  },
  {
   "cell_type": "markdown",
   "metadata": {
    "papermill": {
     "duration": 0.13435,
     "end_time": "2020-12-21T10:11:47.091366",
     "exception": false,
     "start_time": "2020-12-21T10:11:46.957016",
     "status": "completed"
    },
    "tags": []
   },
   "source": [
    "# -------------------------------------------------------------------------------------------------------------"
   ]
  }
 ],
 "metadata": {
  "kernelspec": {
   "display_name": "Python 3",
   "language": "python",
   "name": "python3"
  },
  "language_info": {
   "codemirror_mode": {
    "name": "ipython",
    "version": 3
   },
   "file_extension": ".py",
   "mimetype": "text/x-python",
   "name": "python",
   "nbconvert_exporter": "python",
   "pygments_lexer": "ipython3",
   "version": "3.8.8"
  }
 },
 "nbformat": 4,
 "nbformat_minor": 4
}
